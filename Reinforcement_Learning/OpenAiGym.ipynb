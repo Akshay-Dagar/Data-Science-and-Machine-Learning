{
 "cells": [
  {
   "cell_type": "code",
   "execution_count": 1,
   "metadata": {},
   "outputs": [],
   "source": [
    "import gym"
   ]
  },
  {
   "cell_type": "code",
   "execution_count": 13,
   "metadata": {},
   "outputs": [],
   "source": [
    "env=gym.make(\"CartPole-v0\")          #creates a cartpole game environment"
   ]
  },
  {
   "cell_type": "code",
   "execution_count": 14,
   "metadata": {},
   "outputs": [
    {
     "data": {
      "text/plain": [
       "array([-0.02114896, -0.00408854, -0.04268147,  0.02747262])"
      ]
     },
     "execution_count": 14,
     "metadata": {},
     "output_type": "execute_result"
    }
   ],
   "source": [
    "env.reset()                          #resets to initial position of the game\n",
    "\n",
    "#the 4 values we got here represent the observations \n",
    "#(they may be position of cart,velocity of cart,\n",
    "#angular velocity of pole, linear velocity of pole).\n",
    "#observations are different for different games, and\n",
    "#no. of observations may also be different"
   ]
  },
  {
   "cell_type": "code",
   "execution_count": 15,
   "metadata": {},
   "outputs": [
    {
     "data": {
      "text/plain": [
       "Box(4,)"
      ]
     },
     "execution_count": 15,
     "metadata": {},
     "output_type": "execute_result"
    }
   ],
   "source": [
    "env.observation_space                #this gives the no. of observation in a particular game (there are 4 obs in this game)"
   ]
  },
  {
   "cell_type": "code",
   "execution_count": 16,
   "metadata": {},
   "outputs": [
    {
     "data": {
      "text/plain": [
       "Discrete(2)"
      ]
     },
     "execution_count": 16,
     "metadata": {},
     "output_type": "execute_result"
    }
   ],
   "source": [
    "env.action_space                     #there are 2 actions (move left or move right)"
   ]
  },
  {
   "cell_type": "code",
   "execution_count": 17,
   "metadata": {},
   "outputs": [],
   "source": [
    "# for t in range(1000):                #to show a seperate window for 1000 time steps    \n",
    "    \n",
    "#     action=env.action_space.sample() #this will take a random action from the set of all possible actions\n",
    "#     env.step(action)\n",
    "    \n",
    "#     env.render()                     #will show the state of the game in the seperate window\n",
    "# env.close()                          #to close the seperate window"
   ]
  },
  {
   "cell_type": "code",
   "execution_count": 18,
   "metadata": {},
   "outputs": [
    {
     "name": "stdout",
     "output_type": "stream",
     "text": [
      "Episode:  0  Score:  12\n",
      "Episode:  1  Score:  46\n",
      "Episode:  2  Score:  18\n",
      "Episode:  3  Score:  16\n",
      "Episode:  4  Score:  25\n",
      "Episode:  5  Score:  13\n",
      "Episode:  6  Score:  35\n",
      "Episode:  7  Score:  45\n",
      "Episode:  8  Score:  9\n",
      "Episode:  9  Score:  18\n",
      "Episode:  10  Score:  25\n",
      "Episode:  11  Score:  17\n",
      "Episode:  12  Score:  14\n",
      "Episode:  13  Score:  15\n",
      "Episode:  14  Score:  17\n",
      "Episode:  15  Score:  14\n",
      "Episode:  16  Score:  8\n",
      "Episode:  17  Score:  25\n",
      "Episode:  18  Score:  14\n",
      "Episode:  19  Score:  10\n"
     ]
    }
   ],
   "source": [
    "for episode in range(20):                #we will run the game 20 times\n",
    "    \n",
    "    observation=env.reset()              #this will reset the game to initial state\n",
    "    \n",
    "    for t in range(200):\n",
    "        \n",
    "        env.render()\n",
    "        action=env.action_space.sample() \n",
    "        \n",
    "        observation,reward,done,info=env.step(action)                 \n",
    "        #this returns 4 things: observations,reward,done(is game over (bool)),other_info\n",
    "        \n",
    "        if done:                         #game over\n",
    "            print(\"Episode: \",episode,\" Score: \",t)\n",
    "            break\n",
    "    env.close()"
   ]
  }
 ],
 "metadata": {
  "kernelspec": {
   "display_name": "Python 3",
   "language": "python",
   "name": "python3"
  },
  "language_info": {
   "codemirror_mode": {
    "name": "ipython",
    "version": 3
   },
   "file_extension": ".py",
   "mimetype": "text/x-python",
   "name": "python",
   "nbconvert_exporter": "python",
   "pygments_lexer": "ipython3",
   "version": "3.7.2"
  }
 },
 "nbformat": 4,
 "nbformat_minor": 2
}
