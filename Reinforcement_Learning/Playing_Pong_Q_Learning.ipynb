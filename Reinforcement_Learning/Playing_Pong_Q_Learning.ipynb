{
 "cells": [
  {
   "cell_type": "code",
   "execution_count": 1,
   "metadata": {
    "colab": {
     "base_uri": "https://localhost:8080/",
     "height": 34
    },
    "colab_type": "code",
    "executionInfo": {
     "elapsed": 864,
     "status": "ok",
     "timestamp": 1585371299670,
     "user": {
      "displayName": "Akshay Dagar",
      "photoUrl": "https://lh3.googleusercontent.com/a-/AOh14GjekPkchpDLR5vpTmzHIr6X4_LWZHsYame_CoWZ5w=s64",
      "userId": "04138874850621617552"
     },
     "user_tz": -330
    },
    "id": "Hn_rly227sgB",
    "outputId": "8ac98281-7963-47f4-ad2c-56fa2f009f3d"
   },
   "outputs": [],
   "source": [
    "# from google.colab import drive\n",
    "# drive.mount('/content/drive')"
   ]
  },
  {
   "cell_type": "code",
   "execution_count": 2,
   "metadata": {
    "colab": {},
    "colab_type": "code",
    "id": "HXklGMVq7mh6"
   },
   "outputs": [],
   "source": [
    "parent_dir=\"\"                            #to be changed if run on different computers"
   ]
  },
  {
   "cell_type": "code",
   "execution_count": 3,
   "metadata": {
    "colab": {},
    "colab_type": "code",
    "id": "Drk8dtQx7ZIl"
   },
   "outputs": [],
   "source": [
    "import gym\n",
    "import numpy as np\n",
    "import random\n",
    "import matplotlib.pyplot as plt\n",
    "from tensorflow.keras.layers import Dense,Conv2D,Dropout,Flatten,MaxPool2D\n",
    "from tensorflow.keras.optimizers import Adam\n",
    "from collections import deque\n",
    "from tensorflow.keras.models import Sequential\n",
    "from tensorflow.keras.models import load_model"
   ]
  },
  {
   "cell_type": "markdown",
   "metadata": {
    "colab_type": "text",
    "id": "RTdE2w_u7ZI4"
   },
   "source": [
    "# Random Gameplay:"
   ]
  },
  {
   "cell_type": "code",
   "execution_count": 4,
   "metadata": {
    "colab": {},
    "colab_type": "code",
    "id": "7gdU5Vvu7ZI7"
   },
   "outputs": [],
   "source": [
    "env=gym.make(\"Pong-v0\")                           #creates a cartpole game environment"
   ]
  },
  {
   "cell_type": "code",
   "execution_count": 5,
   "metadata": {
    "colab": {
     "base_uri": "https://localhost:8080/",
     "height": 34
    },
    "colab_type": "code",
    "executionInfo": {
     "elapsed": 3791,
     "status": "ok",
     "timestamp": 1585371302619,
     "user": {
      "displayName": "Akshay Dagar",
      "photoUrl": "https://lh3.googleusercontent.com/a-/AOh14GjekPkchpDLR5vpTmzHIr6X4_LWZHsYame_CoWZ5w=s64",
      "userId": "04138874850621617552"
     },
     "user_tz": -330
    },
    "id": "4xGHsPpt7ZJL",
    "outputId": "2dd0f670-926a-42a9-fcf7-9c27da2af07d"
   },
   "outputs": [
    {
     "data": {
      "text/plain": [
       "(210, 160, 3)"
      ]
     },
     "execution_count": 5,
     "metadata": {},
     "output_type": "execute_result"
    }
   ],
   "source": [
    "observation=env.reset()\n",
    "observation.shape"
   ]
  },
  {
   "cell_type": "code",
   "execution_count": 5,
   "metadata": {
    "colab": {},
    "colab_type": "code",
    "id": "SZa5BkeO7ZJX"
   },
   "outputs": [],
   "source": [
    "observation=observation.astype(\"float\")/255"
   ]
  },
  {
   "cell_type": "code",
   "execution_count": 6,
   "metadata": {
    "colab": {
     "base_uri": "https://localhost:8080/",
     "height": 269
    },
    "colab_type": "code",
    "executionInfo": {
     "elapsed": 3783,
     "status": "ok",
     "timestamp": 1585371302621,
     "user": {
      "displayName": "Akshay Dagar",
      "photoUrl": "https://lh3.googleusercontent.com/a-/AOh14GjekPkchpDLR5vpTmzHIr6X4_LWZHsYame_CoWZ5w=s64",
      "userId": "04138874850621617552"
     },
     "user_tz": -330
    },
    "id": "IPNht_647ZJl",
    "outputId": "a59d24cf-a5f4-41bb-9789-bb1f8505226c"
   },
   "outputs": [
    {
     "data": {
      "image/png": "[encoded data removed]",
      "text/plain": [
       "<Figure size 432x288 with 1 Axes>"
      ]
     },
     "metadata": {
      "needs_background": "light"
     },
     "output_type": "display_data"
    }
   ],
   "source": [
    "plt.imshow(observation)\n",
    "plt.show()"
   ]
  },
  {
   "cell_type": "code",
   "execution_count": 7,
   "metadata": {
    "colab": {
     "base_uri": "https://localhost:8080/",
     "height": 34
    },
    "colab_type": "code",
    "executionInfo": {
     "elapsed": 3775,
     "status": "ok",
     "timestamp": 1585371302621,
     "user": {
      "displayName": "Akshay Dagar",
      "photoUrl": "https://lh3.googleusercontent.com/a-/AOh14GjekPkchpDLR5vpTmzHIr6X4_LWZHsYame_CoWZ5w=s64",
      "userId": "04138874850621617552"
     },
     "user_tz": -330
    },
    "id": "r0iacgUy7ZJz",
    "outputId": "83b18012-6173-4629-a826-5b11023f243d"
   },
   "outputs": [
    {
     "data": {
      "text/plain": [
       "Box(210, 160, 3)"
      ]
     },
     "execution_count": 7,
     "metadata": {},
     "output_type": "execute_result"
    }
   ],
   "source": [
    "env.observation_space"
   ]
  },
  {
   "cell_type": "code",
   "execution_count": 8,
   "metadata": {
    "colab": {
     "base_uri": "https://localhost:8080/",
     "height": 34
    },
    "colab_type": "code",
    "executionInfo": {
     "elapsed": 3770,
     "status": "ok",
     "timestamp": 1585371302621,
     "user": {
      "displayName": "Akshay Dagar",
      "photoUrl": "https://lh3.googleusercontent.com/a-/AOh14GjekPkchpDLR5vpTmzHIr6X4_LWZHsYame_CoWZ5w=s64",
      "userId": "04138874850621617552"
     },
     "user_tz": -330
    },
    "id": "fhdEoNlE7ZKD",
    "outputId": "630ce1ec-2b86-4fc8-a33c-4bde257bc428"
   },
   "outputs": [
    {
     "data": {
      "text/plain": [
       "Discrete(6)"
      ]
     },
     "execution_count": 8,
     "metadata": {},
     "output_type": "execute_result"
    }
   ],
   "source": [
    "env.action_space"
   ]
  },
  {
   "cell_type": "code",
   "execution_count": 10,
   "metadata": {
    "colab": {
     "base_uri": "https://localhost:8080/",
     "height": 34
    },
    "colab_type": "code",
    "executionInfo": {
     "elapsed": 4136,
     "status": "ok",
     "timestamp": 1585371302993,
     "user": {
      "displayName": "Akshay Dagar",
      "photoUrl": "https://lh3.googleusercontent.com/a-/AOh14GjekPkchpDLR5vpTmzHIr6X4_LWZHsYame_CoWZ5w=s64",
      "userId": "04138874850621617552"
     },
     "user_tz": -330
    },
    "id": "t3rpDx6a7ZKQ",
    "outputId": "acada6c4-2b57-4ace-b385-2df509db71e2"
   },
   "outputs": [],
   "source": [
    "env.reset()\n",
    "score=0\n",
    "for t in range(1000):\n",
    "    \n",
    "    env.render()\n",
    "    action=env.action_space.sample()\n",
    "    \n",
    "    observation,reward,done,other_info=env.step(action)\n",
    "    score+=reward\n",
    "    \n",
    "    if done:\n",
    "        print(reward)\n",
    "        break\n",
    "    \n",
    "env.close()"
   ]
  },
  {
   "cell_type": "code",
   "execution_count": 11,
   "metadata": {
    "colab": {},
    "colab_type": "code",
    "id": "heQUztZm7ZKd"
   },
   "outputs": [],
   "source": [
    "class Agent:\n",
    "    \n",
    "    def __init__(self,obs_size,action_size):\n",
    "        \n",
    "        self.obs_size=obs_size                          #size of tuple used to define any state in the game\n",
    "        self.action_size=action_size                    #no. of possible actions\n",
    "        self.gamma=0.95                                 #discount factor\n",
    "        self.memory=deque(maxlen=100000)                  \n",
    "        #stores past experiences, experiences in the distant past will be discarded\n",
    "        #when the memory is full and experiences in the recent past will be used\n",
    "        \n",
    "        self.epsilon=1                                  #exploration factor, intially we will do 100% exploration\n",
    "        self.epsilon_decay=0.95                         #how much the exploration factor will decrease after episode\n",
    "        self.epsilon_min=0.01                           #minimum value of epsilon\n",
    "        self.lr=0.001                                   #learning_rate for SGD\n",
    "        self.save_path=parent_dir+\"pong.h5\"\n",
    "        self.model=self._create_model()\n",
    "        \n",
    "    def _create_model(self):\n",
    "        \n",
    "        model=Sequential()\n",
    "        \n",
    "        model.add(Conv2D(32,(3,3),activation=\"relu\",padding=\"same\",input_shape=self.obs_size))\n",
    "        model.add(MaxPool2D((2,2)))\n",
    "        model.add(Flatten())\n",
    "        model.add(Dense(124,activation=\"relu\"))\n",
    "        model.add(Dense(self.action_size,activation=\"linear\"))\n",
    "        \n",
    "        model.compile(optimizer=Adam(lr=self.lr),loss=\"mse\")                      \n",
    "\n",
    "#         model=self.load()\n",
    "        \n",
    "        return model\n",
    "    \n",
    "    def remember(self,cur_state,action,reward,next_state,done):\n",
    "        self.memory.append((cur_state,action,reward,next_state,done))\n",
    "    \n",
    "    def act(self,state):\n",
    "        \n",
    "        if np.random.rand()<=self.epsilon:                                #exploration\n",
    "            return random.randrange(self.action_size)#return random.sample(list(np.arange(self.action_size)),1)[0]\n",
    "        \n",
    "        action=np.argmax(self.model.predict(state)[0])\n",
    "        return action                     #exploitation\n",
    "    \n",
    "    def fit(self,batch_size=32):                                           \n",
    "        \n",
    "        batch=random.sample(self.memory,batch_size)\n",
    "        \n",
    "        for cur_state,action,reward,next_state,done in batch:\n",
    "            \n",
    "            if done:\n",
    "                y_true=reward\n",
    "                \n",
    "            else:\n",
    "                y_true=reward+(self.gamma*np.amax(self.model.predict(next_state)[0]))\n",
    "                \n",
    "            target=self.model.predict(cur_state)\n",
    "            target[0][action]=y_true\n",
    "            \n",
    "            self.model.fit(cur_state,target,epochs=1,verbose=0)\n",
    "            \n",
    "        if self.epsilon>self.epsilon_min:\n",
    "            self.epsilon*=self.epsilon_decay\n",
    "            \n",
    "    def save(self):\n",
    "        self.model.save(self.save_path)\n",
    "        \n",
    "    def load(self):\n",
    "        return load_model(self.save_path)"
   ]
  },
  {
   "cell_type": "code",
   "execution_count": 12,
   "metadata": {
    "colab": {
     "base_uri": "https://localhost:8080/",
     "height": 52
    },
    "colab_type": "code",
    "executionInfo": {
     "elapsed": 6072,
     "status": "ok",
     "timestamp": 1585371304938,
     "user": {
      "displayName": "Akshay Dagar",
      "photoUrl": "https://lh3.googleusercontent.com/a-/AOh14GjekPkchpDLR5vpTmzHIr6X4_LWZHsYame_CoWZ5w=s64",
      "userId": "04138874850621617552"
     },
     "user_tz": -330
    },
    "id": "gEPDJK9s7ZKn",
    "outputId": "f5870348-6cce-4bd5-98ae-d94e627e6256"
   },
   "outputs": [
    {
     "name": "stderr",
     "output_type": "stream",
     "text": [
      "WARNING: Logging before flag parsing goes to stderr.\n",
      "W0824 12:00:12.492635 13980 deprecation.py:506] From c:\\users\\akshay\\anaconda3\\envs\\tf\\lib\\site-packages\\tensorflow_core\\python\\ops\\resource_variable_ops.py:1630: calling BaseResourceVariable.__init__ (from tensorflow.python.ops.resource_variable_ops) with constraint is deprecated and will be removed in a future version.\n",
      "Instructions for updating:\n",
      "If using Keras pass *_constraint arguments to layers.\n"
     ]
    },
    {
     "data": {
      "text/plain": [
       "<__main__.Agent at 0x1c81a853710>"
      ]
     },
     "execution_count": 12,
     "metadata": {},
     "output_type": "execute_result"
    }
   ],
   "source": [
    "env=gym.make(\"Pong-v0\")                           #creates a MsPacman game environment\n",
    "\n",
    "done=False\n",
    "observation_size=env.observation_space.shape\n",
    "action_size=env.action_space.n\n",
    "batch_size=256\n",
    "\n",
    "agent=Agent(action_size=action_size,obs_size=observation_size)\n",
    "agent"
   ]
  },
  {
   "cell_type": "code",
   "execution_count": null,
   "metadata": {
    "colab": {
     "base_uri": "https://localhost:8080/",
     "height": 69
    },
    "colab_type": "code",
    "executionInfo": {
     "elapsed": 728431,
     "status": "ok",
     "timestamp": 1585320983579,
     "user": {
      "displayName": "Akshay Dagar",
      "photoUrl": "https://lh3.googleusercontent.com/a-/AOh14GjekPkchpDLR5vpTmzHIr6X4_LWZHsYame_CoWZ5w=s64",
      "userId": "04138874850621617552"
     },
     "user_tz": -330
    },
    "id": "oNiuZ9mg7ZKy",
    "outputId": "b7d66935-c26f-4a34-fe83-159b7145ff45",
    "scrolled": true
   },
   "outputs": [
    {
     "name": "stdout",
     "output_type": "stream",
     "text": [
      "Episode:  0  Score:  -21.0  Exploration factor:  1\n",
      "Episode:  1  Score:  -18.0  Exploration factor:  0.95\n",
      "Episode:  2  Score:  -21.0  Exploration factor:  0.9025\n",
      "Episode:  3  Score:  -21.0  Exploration factor:  0.8573749999999999\n",
      "Episode:  4  Score:  -20.0  Exploration factor:  0.8145062499999999\n",
      "Episode:  5  Score:  -20.0  Exploration factor:  0.7737809374999999\n",
      "Episode:  6  Score:  -21.0  Exploration factor:  0.7350918906249998\n",
      "Episode:  7  Score:  -21.0  Exploration factor:  0.6983372960937497\n",
      "Episode:  8  Score:  -21.0  Exploration factor:  0.6634204312890623\n",
      "Episode:  9  Score:  -21.0  Exploration factor:  0.6302494097246091\n",
      "Episode:  10  Score:  -21.0  Exploration factor:  0.5987369392383786\n",
      "Episode:  11  Score:  -21.0  Exploration factor:  0.5688000922764596\n",
      "Episode:  12  Score:  -20.0  Exploration factor:  0.5403600876626365\n"
     ]
    }
   ],
   "source": [
    "for episode in range(500):\n",
    "    \n",
    "    state=env.reset()                                 #intial state for each episode\n",
    "    state=np.reshape(state,(1,observation_size[0],observation_size[1],observation_size[2]))\n",
    "    state=state.astype(\"float\")/255\n",
    "\n",
    "    score=0\n",
    "    \n",
    "    for t in range(10000):\n",
    "        \n",
    "        action=agent.act(state)\n",
    "        next_state,reward,done,other_info=env.step(action)\n",
    "        score+=reward\n",
    "        \n",
    "        next_state=np.reshape(next_state,(1,observation_size[0],observation_size[1],observation_size[2]))\n",
    "        next_state=next_state.astype(\"float\")/255\n",
    "        \n",
    "        agent.remember(cur_state=state,action=action,reward=reward,next_state=next_state,done=done)\n",
    "        state=next_state\n",
    "        \n",
    "        if done:\n",
    "            print(\"Episode: \",episode,\" Score: \",score,\" Exploration factor: \",agent.epsilon)\n",
    "            break\n",
    "    \n",
    "    if len(agent.memory)>=batch_size:\n",
    "        agent.fit(batch_size)\n",
    "        \n",
    "agent.save()\n",
    "env.close()"
   ]
  }
 ],
 "metadata": {
  "accelerator": "TPU",
  "colab": {
   "collapsed_sections": [],
   "name": "Playing_Pacman_Q_Learning.ipynb",
   "provenance": []
  },
  "kernelspec": {
   "display_name": "Python 3",
   "language": "python",
   "name": "python3"
  },
  "language_info": {
   "codemirror_mode": {
    "name": "ipython",
    "version": 3
   },
   "file_extension": ".py",
   "mimetype": "text/x-python",
   "name": "python",
   "nbconvert_exporter": "python",
   "pygments_lexer": "ipython3",
   "version": "3.7.2"
  }
 },
 "nbformat": 4,
 "nbformat_minor": 1
}
