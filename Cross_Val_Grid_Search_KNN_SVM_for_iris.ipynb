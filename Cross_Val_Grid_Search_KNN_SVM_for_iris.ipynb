{
 "cells": [
  {
   "cell_type": "code",
   "execution_count": 1,
   "metadata": {},
   "outputs": [],
   "source": [
    "from sklearn.neighbors import KNeighborsClassifier\n",
    "from sklearn.model_selection import train_test_split as tts\n",
    "from sklearn.svm import SVC\n",
    "from sklearn.model_selection import GridSearchCV\n",
    "from sklearn import datasets"
   ]
  },
  {
   "cell_type": "code",
   "execution_count": 2,
   "metadata": {},
   "outputs": [],
   "source": [
    "iris=datasets.load_iris()\n",
    "x=iris.data\n",
    "y=iris.target\n",
    "x_train,x_test,y_train,y_test=tts(x,y,random_state=0)"
   ]
  },
  {
   "cell_type": "markdown",
   "metadata": {},
   "source": [
    "# For KNN"
   ]
  },
  {
   "cell_type": "code",
   "execution_count": 3,
   "metadata": {
    "scrolled": false
   },
   "outputs": [
    {
     "name": "stderr",
     "output_type": "stream",
     "text": [
      "C:\\Users\\akshay\\Anaconda3\\lib\\site-packages\\sklearn\\model_selection\\_split.py:2053: FutureWarning: You should specify a value for 'cv' instead of relying on the default value. The default value will change from 3 to 5 in version 0.22.\n",
      "  warnings.warn(CV_WARNING, FutureWarning)\n",
      "C:\\Users\\akshay\\Anaconda3\\lib\\site-packages\\sklearn\\model_selection\\_search.py:841: DeprecationWarning: The default of the `iid` parameter will change from True to False in version 0.22 and will be removed in 0.24. This will change numeric results when test-set sizes are unequal.\n",
      "  DeprecationWarning)\n"
     ]
    },
    {
     "data": {
      "text/plain": [
       "GridSearchCV(cv='warn', error_score='raise-deprecating',\n",
       "       estimator=KNeighborsClassifier(algorithm='auto', leaf_size=30, metric='minkowski',\n",
       "           metric_params=None, n_jobs=None, n_neighbors=7, p=2,\n",
       "           weights='uniform'),\n",
       "       fit_params=None, iid='warn', n_jobs=None,\n",
       "       param_grid={'n_neighbors': [3, 5, 7, 9, 11]},\n",
       "       pre_dispatch='2*n_jobs', refit=True, return_train_score='warn',\n",
       "       scoring=None, verbose=0)"
      ]
     },
     "execution_count": 3,
     "metadata": {},
     "output_type": "execute_result"
    }
   ],
   "source": [
    "clf=KNeighborsClassifier(n_neighbors=7)\n",
    "grid={\"n_neighbors\":[3,5,7,9,11]}         #for KNN key is K and value is the list of different K values u wanna try\n",
    "cvobj=GridSearchCV(clf,grid)\n",
    "cvobj.fit(x_train,y_train)"
   ]
  },
  {
   "cell_type": "code",
   "execution_count": 4,
   "metadata": {},
   "outputs": [
    {
     "data": {
      "text/plain": [
       "KNeighborsClassifier(algorithm='auto', leaf_size=30, metric='minkowski',\n",
       "           metric_params=None, n_jobs=None, n_neighbors=3, p=2,\n",
       "           weights='uniform')"
      ]
     },
     "execution_count": 4,
     "metadata": {},
     "output_type": "execute_result"
    }
   ],
   "source": [
    "cvobj.best_estimator_                    #see that best result was when K=7"
   ]
  },
  {
   "cell_type": "code",
   "execution_count": 5,
   "metadata": {},
   "outputs": [
    {
     "name": "stderr",
     "output_type": "stream",
     "text": [
      "C:\\Users\\akshay\\Anaconda3\\lib\\site-packages\\sklearn\\utils\\deprecation.py:125: FutureWarning: You are accessing a training score ('split0_train_score'), which will not be available by default any more in 0.21. If you need training scores, please set return_train_score=True\n",
      "  warnings.warn(*warn_args, **warn_kwargs)\n",
      "C:\\Users\\akshay\\Anaconda3\\lib\\site-packages\\sklearn\\utils\\deprecation.py:125: FutureWarning: You are accessing a training score ('split1_train_score'), which will not be available by default any more in 0.21. If you need training scores, please set return_train_score=True\n",
      "  warnings.warn(*warn_args, **warn_kwargs)\n",
      "C:\\Users\\akshay\\Anaconda3\\lib\\site-packages\\sklearn\\utils\\deprecation.py:125: FutureWarning: You are accessing a training score ('split2_train_score'), which will not be available by default any more in 0.21. If you need training scores, please set return_train_score=True\n",
      "  warnings.warn(*warn_args, **warn_kwargs)\n",
      "C:\\Users\\akshay\\Anaconda3\\lib\\site-packages\\sklearn\\utils\\deprecation.py:125: FutureWarning: You are accessing a training score ('mean_train_score'), which will not be available by default any more in 0.21. If you need training scores, please set return_train_score=True\n",
      "  warnings.warn(*warn_args, **warn_kwargs)\n",
      "C:\\Users\\akshay\\Anaconda3\\lib\\site-packages\\sklearn\\utils\\deprecation.py:125: FutureWarning: You are accessing a training score ('std_train_score'), which will not be available by default any more in 0.21. If you need training scores, please set return_train_score=True\n",
      "  warnings.warn(*warn_args, **warn_kwargs)\n"
     ]
    },
    {
     "data": {
      "text/plain": [
       "{'mean_fit_time': array([0.00133189, 0.        , 0.00522304, 0.        , 0.        ]),\n",
       " 'std_fit_time': array([0.00188357, 0.        , 0.00738649, 0.        , 0.        ]),\n",
       " 'mean_score_time': array([0.00398755, 0.0013326 , 0.00520817, 0.        , 0.        ]),\n",
       " 'std_score_time': array([4.02261439e-06, 1.88458228e-03, 7.36547085e-03, 0.00000000e+00,\n",
       "        0.00000000e+00]),\n",
       " 'param_n_neighbors': masked_array(data=[3, 5, 7, 9, 11],\n",
       "              mask=[False, False, False, False, False],\n",
       "        fill_value='?',\n",
       "             dtype=object),\n",
       " 'params': [{'n_neighbors': 3},\n",
       "  {'n_neighbors': 5},\n",
       "  {'n_neighbors': 7},\n",
       "  {'n_neighbors': 9},\n",
       "  {'n_neighbors': 11}],\n",
       " 'split0_test_score': array([0.92307692, 0.94871795, 0.94871795, 0.97435897, 0.97435897]),\n",
       " 'split1_test_score': array([1.        , 0.97297297, 1.        , 0.97297297, 0.97297297]),\n",
       " 'split2_test_score': array([0.94444444, 0.94444444, 0.91666667, 0.91666667, 0.91666667]),\n",
       " 'mean_test_score': array([0.95535714, 0.95535714, 0.95535714, 0.95535714, 0.95535714]),\n",
       " 'std_test_score': array([0.03255024, 0.0124957 , 0.03398395, 0.02663473, 0.02663473]),\n",
       " 'rank_test_score': array([1, 1, 1, 1, 1]),\n",
       " 'split0_train_score': array([0.98630137, 0.98630137, 0.97260274, 0.98630137, 0.98630137]),\n",
       " 'split1_train_score': array([0.96      , 0.94666667, 0.96      , 0.96      , 0.94666667]),\n",
       " 'split2_train_score': array([0.97368421, 0.97368421, 0.98684211, 0.98684211, 0.97368421]),\n",
       " 'mean_train_score': array([0.97332853, 0.96888408, 0.97314828, 0.97771449, 0.96888408]),\n",
       " 'std_train_score': array([0.01074043, 0.01653296, 0.01096503, 0.01252798, 0.01653296])}"
      ]
     },
     "execution_count": 5,
     "metadata": {},
     "output_type": "execute_result"
    }
   ],
   "source": [
    "cvobj.cv_results_                       #this will give scores of each of the values in the grid(just look at test scores)"
   ]
  },
  {
   "cell_type": "code",
   "execution_count": 6,
   "metadata": {},
   "outputs": [
    {
     "data": {
      "text/plain": [
       "0.9736842105263158"
      ]
     },
     "execution_count": 6,
     "metadata": {},
     "output_type": "execute_result"
    }
   ],
   "source": [
    "clf=KNeighborsClassifier(n_neighbors=3)\n",
    "clf.fit(x_train,y_train)\n",
    "clf.score(x_test,y_test)"
   ]
  },
  {
   "cell_type": "markdown",
   "metadata": {},
   "source": [
    "# For SVM"
   ]
  },
  {
   "cell_type": "code",
   "execution_count": 50,
   "metadata": {},
   "outputs": [
    {
     "name": "stderr",
     "output_type": "stream",
     "text": [
      "C:\\Users\\akshay\\Anaconda3\\lib\\site-packages\\sklearn\\model_selection\\_split.py:2053: FutureWarning: You should specify a value for 'cv' instead of relying on the default value. The default value will change from 3 to 5 in version 0.22.\n",
      "  warnings.warn(CV_WARNING, FutureWarning)\n",
      "C:\\Users\\akshay\\Anaconda3\\lib\\site-packages\\sklearn\\model_selection\\_search.py:841: DeprecationWarning: The default of the `iid` parameter will change from True to False in version 0.22 and will be removed in 0.24. This will change numeric results when test-set sizes are unequal.\n",
      "  DeprecationWarning)\n"
     ]
    },
    {
     "data": {
      "text/plain": [
       "GridSearchCV(cv='warn', error_score='raise-deprecating',\n",
       "       estimator=SVC(C=1000, cache_size=200, class_weight=None, coef0=0.0,\n",
       "  decision_function_shape='ovr', degree=3, gamma=0.0005, kernel='rbf',\n",
       "  max_iter=-1, probability=False, random_state=None, shrinking=True,\n",
       "  tol=0.001, verbose=False),\n",
       "       fit_params=None, iid='warn', n_jobs=None,\n",
       "       param_grid={'C': [10, 100, 1000, 5000, 10000, 50000, 100000], 'gamma': [0.001, 0.0005, 0.0001, 1e-05]},\n",
       "       pre_dispatch='2*n_jobs', refit=True, return_train_score='warn',\n",
       "       scoring=None, verbose=0)"
      ]
     },
     "execution_count": 50,
     "metadata": {},
     "output_type": "execute_result"
    }
   ],
   "source": [
    "clf=SVC(C=1000,gamma=0.0005)\n",
    "grid={\"C\":[10,100,1000,5000,10000,50000,100000],\"gamma\":[0.001,0.0005,0.0001,0.00001]}\n",
    "cvobj=GridSearchCV(clf,grid)\n",
    "cvobj.fit(x_train,y_train)"
   ]
  },
  {
   "cell_type": "code",
   "execution_count": 51,
   "metadata": {},
   "outputs": [
    {
     "data": {
      "text/plain": [
       "SVC(C=1000, cache_size=200, class_weight=None, coef0=0.0,\n",
       "  decision_function_shape='ovr', degree=3, gamma=0.001, kernel='rbf',\n",
       "  max_iter=-1, probability=False, random_state=None, shrinking=True,\n",
       "  tol=0.001, verbose=False)"
      ]
     },
     "execution_count": 51,
     "metadata": {},
     "output_type": "execute_result"
    }
   ],
   "source": [
    "cvobj.best_estimator_               #best results on C=1000,gamma=0.0005"
   ]
  },
  {
   "cell_type": "code",
   "execution_count": 52,
   "metadata": {},
   "outputs": [
    {
     "name": "stderr",
     "output_type": "stream",
     "text": [
      "C:\\Users\\akshay\\Anaconda3\\lib\\site-packages\\sklearn\\utils\\deprecation.py:125: FutureWarning: You are accessing a training score ('split0_train_score'), which will not be available by default any more in 0.21. If you need training scores, please set return_train_score=True\n",
      "  warnings.warn(*warn_args, **warn_kwargs)\n",
      "C:\\Users\\akshay\\Anaconda3\\lib\\site-packages\\sklearn\\utils\\deprecation.py:125: FutureWarning: You are accessing a training score ('split1_train_score'), which will not be available by default any more in 0.21. If you need training scores, please set return_train_score=True\n",
      "  warnings.warn(*warn_args, **warn_kwargs)\n",
      "C:\\Users\\akshay\\Anaconda3\\lib\\site-packages\\sklearn\\utils\\deprecation.py:125: FutureWarning: You are accessing a training score ('split2_train_score'), which will not be available by default any more in 0.21. If you need training scores, please set return_train_score=True\n",
      "  warnings.warn(*warn_args, **warn_kwargs)\n",
      "C:\\Users\\akshay\\Anaconda3\\lib\\site-packages\\sklearn\\utils\\deprecation.py:125: FutureWarning: You are accessing a training score ('mean_train_score'), which will not be available by default any more in 0.21. If you need training scores, please set return_train_score=True\n",
      "  warnings.warn(*warn_args, **warn_kwargs)\n",
      "C:\\Users\\akshay\\Anaconda3\\lib\\site-packages\\sklearn\\utils\\deprecation.py:125: FutureWarning: You are accessing a training score ('std_train_score'), which will not be available by default any more in 0.21. If you need training scores, please set return_train_score=True\n",
      "  warnings.warn(*warn_args, **warn_kwargs)\n"
     ]
    },
    {
     "data": {
      "text/plain": [
       "{'mean_fit_time': array([0.00099611, 0.00101749, 0.00099786, 0.00099985, 0.00066535,\n",
       "        0.00066519, 0.        , 0.        , 0.        , 0.        ,\n",
       "        0.        , 0.        , 0.        , 0.        , 0.        ,\n",
       "        0.        , 0.        , 0.        , 0.        , 0.        ,\n",
       "        0.        , 0.        , 0.00520762, 0.        , 0.        ,\n",
       "        0.        , 0.        , 0.00520651]),\n",
       " 'std_fit_time': array([2.16773060e-06, 1.90429974e-05, 8.11878110e-04, 5.22469836e-06,\n",
       "        4.70471382e-04, 4.70358991e-04, 0.00000000e+00, 0.00000000e+00,\n",
       "        0.00000000e+00, 0.00000000e+00, 0.00000000e+00, 0.00000000e+00,\n",
       "        0.00000000e+00, 0.00000000e+00, 0.00000000e+00, 0.00000000e+00,\n",
       "        0.00000000e+00, 0.00000000e+00, 0.00000000e+00, 0.00000000e+00,\n",
       "        0.00000000e+00, 0.00000000e+00, 7.36468411e-03, 0.00000000e+00,\n",
       "        0.00000000e+00, 0.00000000e+00, 0.00000000e+00, 7.36311063e-03]),\n",
       " 'mean_score_time': array([6.64393107e-04, 9.86496607e-04, 0.00000000e+00, 0.00000000e+00,\n",
       "        3.32355499e-04, 3.91006470e-05, 0.00000000e+00, 0.00000000e+00,\n",
       "        5.20928701e-03, 0.00000000e+00, 0.00000000e+00, 0.00000000e+00,\n",
       "        0.00000000e+00, 0.00000000e+00, 0.00000000e+00, 0.00000000e+00,\n",
       "        0.00000000e+00, 0.00000000e+00, 0.00000000e+00, 0.00000000e+00,\n",
       "        0.00000000e+00, 0.00000000e+00, 0.00000000e+00, 0.00000000e+00,\n",
       "        0.00000000e+00, 0.00000000e+00, 0.00000000e+00, 0.00000000e+00]),\n",
       " 'std_score_time': array([4.69797234e-04, 8.13837232e-04, 0.00000000e+00, 0.00000000e+00,\n",
       "        4.70021655e-04, 5.52966652e-05, 0.00000000e+00, 0.00000000e+00,\n",
       "        7.36704434e-03, 0.00000000e+00, 0.00000000e+00, 0.00000000e+00,\n",
       "        0.00000000e+00, 0.00000000e+00, 0.00000000e+00, 0.00000000e+00,\n",
       "        0.00000000e+00, 0.00000000e+00, 0.00000000e+00, 0.00000000e+00,\n",
       "        0.00000000e+00, 0.00000000e+00, 0.00000000e+00, 0.00000000e+00,\n",
       "        0.00000000e+00, 0.00000000e+00, 0.00000000e+00, 0.00000000e+00]),\n",
       " 'param_C': masked_array(data=[10, 10, 10, 10, 100, 100, 100, 100, 1000, 1000, 1000,\n",
       "                    1000, 5000, 5000, 5000, 5000, 10000, 10000, 10000,\n",
       "                    10000, 50000, 50000, 50000, 50000, 100000, 100000,\n",
       "                    100000, 100000],\n",
       "              mask=[False, False, False, False, False, False, False, False,\n",
       "                    False, False, False, False, False, False, False, False,\n",
       "                    False, False, False, False, False, False, False, False,\n",
       "                    False, False, False, False],\n",
       "        fill_value='?',\n",
       "             dtype=object),\n",
       " 'param_gamma': masked_array(data=[0.001, 0.0005, 0.0001, 1e-05, 0.001, 0.0005, 0.0001,\n",
       "                    1e-05, 0.001, 0.0005, 0.0001, 1e-05, 0.001, 0.0005,\n",
       "                    0.0001, 1e-05, 0.001, 0.0005, 0.0001, 1e-05, 0.001,\n",
       "                    0.0005, 0.0001, 1e-05, 0.001, 0.0005, 0.0001, 1e-05],\n",
       "              mask=[False, False, False, False, False, False, False, False,\n",
       "                    False, False, False, False, False, False, False, False,\n",
       "                    False, False, False, False, False, False, False, False,\n",
       "                    False, False, False, False],\n",
       "        fill_value='?',\n",
       "             dtype=object),\n",
       " 'params': [{'C': 10, 'gamma': 0.001},\n",
       "  {'C': 10, 'gamma': 0.0005},\n",
       "  {'C': 10, 'gamma': 0.0001},\n",
       "  {'C': 10, 'gamma': 1e-05},\n",
       "  {'C': 100, 'gamma': 0.001},\n",
       "  {'C': 100, 'gamma': 0.0005},\n",
       "  {'C': 100, 'gamma': 0.0001},\n",
       "  {'C': 100, 'gamma': 1e-05},\n",
       "  {'C': 1000, 'gamma': 0.001},\n",
       "  {'C': 1000, 'gamma': 0.0005},\n",
       "  {'C': 1000, 'gamma': 0.0001},\n",
       "  {'C': 1000, 'gamma': 1e-05},\n",
       "  {'C': 5000, 'gamma': 0.001},\n",
       "  {'C': 5000, 'gamma': 0.0005},\n",
       "  {'C': 5000, 'gamma': 0.0001},\n",
       "  {'C': 5000, 'gamma': 1e-05},\n",
       "  {'C': 10000, 'gamma': 0.001},\n",
       "  {'C': 10000, 'gamma': 0.0005},\n",
       "  {'C': 10000, 'gamma': 0.0001},\n",
       "  {'C': 10000, 'gamma': 1e-05},\n",
       "  {'C': 50000, 'gamma': 0.001},\n",
       "  {'C': 50000, 'gamma': 0.0005},\n",
       "  {'C': 50000, 'gamma': 0.0001},\n",
       "  {'C': 50000, 'gamma': 1e-05},\n",
       "  {'C': 100000, 'gamma': 0.001},\n",
       "  {'C': 100000, 'gamma': 0.0005},\n",
       "  {'C': 100000, 'gamma': 0.0001},\n",
       "  {'C': 100000, 'gamma': 1e-05}],\n",
       " 'split0_test_score': array([0.8974359 , 0.87179487, 0.69230769, 0.35897436, 0.94871795,\n",
       "        0.94871795, 0.8974359 , 0.69230769, 0.97435897, 0.97435897,\n",
       "        0.94871795, 0.8974359 , 0.8974359 , 0.8974359 , 0.97435897,\n",
       "        0.94871795, 0.92307692, 0.8974359 , 0.97435897, 0.94871795,\n",
       "        0.97435897, 0.97435897, 0.8974359 , 0.97435897, 0.97435897,\n",
       "        0.97435897, 0.92307692, 0.97435897]),\n",
       " 'split1_test_score': array([0.94594595, 0.83783784, 0.7027027 , 0.37837838, 1.        ,\n",
       "        0.97297297, 0.94594595, 0.7027027 , 1.        , 0.97297297,\n",
       "        1.        , 0.94594595, 1.        , 1.        , 0.97297297,\n",
       "        0.97297297, 1.        , 1.        , 1.        , 1.        ,\n",
       "        1.        , 1.        , 1.        , 0.97297297, 1.        ,\n",
       "        1.        , 1.        , 1.        ]),\n",
       " 'split2_test_score': array([0.88888889, 0.69444444, 0.69444444, 0.36111111, 0.91666667,\n",
       "        0.91666667, 0.88888889, 0.69444444, 0.91666667, 0.91666667,\n",
       "        0.91666667, 0.88888889, 0.91666667, 0.91666667, 0.91666667,\n",
       "        0.91666667, 0.91666667, 0.91666667, 0.91666667, 0.91666667,\n",
       "        0.91666667, 0.91666667, 0.91666667, 0.91666667, 0.91666667,\n",
       "        0.91666667, 0.91666667, 0.91666667]),\n",
       " 'mean_test_score': array([0.91071429, 0.80357143, 0.69642857, 0.36607143, 0.95535714,\n",
       "        0.94642857, 0.91071429, 0.69642857, 0.96428571, 0.95535714,\n",
       "        0.95535714, 0.91071429, 0.9375    , 0.9375    , 0.95535714,\n",
       "        0.94642857, 0.94642857, 0.9375    , 0.96428571, 0.95535714,\n",
       "        0.96428571, 0.96428571, 0.9375    , 0.95535714, 0.96428571,\n",
       "        0.96428571, 0.94642857, 0.96428571]),\n",
       " 'std_test_score': array([0.02499139, 0.07639659, 0.00449256, 0.00868815, 0.03398395,\n",
       "        0.02278834, 0.02499139, 0.00449256, 0.03443211, 0.02663473,\n",
       "        0.03398395, 0.02499139, 0.04459705, 0.04459705, 0.02663473,\n",
       "        0.02278834, 0.03771849, 0.04459705, 0.03443211, 0.03398395,\n",
       "        0.03443211, 0.03443211, 0.04459705, 0.02663473, 0.03443211,\n",
       "        0.03443211, 0.03771849, 0.03443211]),\n",
       " 'rank_test_score': array([22, 25, 26, 28,  8, 14, 22, 26,  1,  8,  8, 22, 18, 18,  8, 14, 14,\n",
       "        18,  1,  8,  1,  1, 18,  8,  1,  1, 14,  1]),\n",
       " 'split0_train_score': array([0.93150685, 0.84931507, 0.69863014, 0.36986301, 0.97260274,\n",
       "        0.97260274, 0.93150685, 0.69863014, 0.98630137, 0.97260274,\n",
       "        0.97260274, 0.93150685, 0.98630137, 0.98630137, 0.97260274,\n",
       "        0.97260274, 0.98630137, 0.98630137, 0.98630137, 0.97260274,\n",
       "        0.98630137, 0.98630137, 0.98630137, 0.97260274, 1.        ,\n",
       "        0.98630137, 0.98630137, 0.98630137]),\n",
       " 'split1_train_score': array([0.94666667, 0.85333333, 0.69333333, 0.36      , 0.94666667,\n",
       "        0.94666667, 0.94666667, 0.69333333, 0.97333333, 0.96      ,\n",
       "        0.94666667, 0.94666667, 0.97333333, 0.97333333, 0.96      ,\n",
       "        0.94666667, 0.97333333, 0.97333333, 0.97333333, 0.94666667,\n",
       "        0.98666667, 0.97333333, 0.97333333, 0.96      , 0.98666667,\n",
       "        0.98666667, 0.97333333, 0.97333333]),\n",
       " 'split2_train_score': array([0.88157895, 0.73684211, 0.69736842, 0.36842105, 1.        ,\n",
       "        0.97368421, 0.88157895, 0.69736842, 1.        , 1.        ,\n",
       "        1.        , 0.88157895, 1.        , 1.        , 1.        ,\n",
       "        0.97368421, 1.        , 1.        , 1.        , 1.        ,\n",
       "        1.        , 1.        , 1.        , 1.        , 1.        ,\n",
       "        1.        , 1.        , 1.        ]),\n",
       " 'mean_train_score': array([0.91991749, 0.8131635 , 0.69644396, 0.36609469, 0.9730898 ,\n",
       "        0.96431787, 0.91991749, 0.69644396, 0.9865449 , 0.97753425,\n",
       "        0.9730898 , 0.91991749, 0.9865449 , 0.9865449 , 0.97753425,\n",
       "        0.96431787, 0.9865449 , 0.9865449 , 0.9865449 , 0.9730898 ,\n",
       "        0.99098935, 0.9865449 , 0.9865449 , 0.97753425, 0.99555556,\n",
       "        0.99098935, 0.9865449 , 0.9865449 ]),\n",
       " 'std_train_score': array([0.02780693, 0.0539923 , 0.00225906, 0.00434962, 0.02177597,\n",
       "        0.01248909, 0.02780693, 0.00225906, 0.01088798, 0.0166981 ,\n",
       "        0.02177597, 0.02780693, 0.01088798, 0.01088798, 0.0166981 ,\n",
       "        0.01248909, 0.01088798, 0.01088798, 0.01088798, 0.02177597,\n",
       "        0.00637324, 0.01088798, 0.01088798, 0.0166981 , 0.00628539,\n",
       "        0.00637324, 0.01088798, 0.01088798])}"
      ]
     },
     "execution_count": 52,
     "metadata": {},
     "output_type": "execute_result"
    }
   ],
   "source": [
    "cvobj.cv_results_                  #no need to worry if u don't understand results,just see best_estimator_ "
   ]
  },
  {
   "cell_type": "code",
   "execution_count": 53,
   "metadata": {},
   "outputs": [
    {
     "data": {
      "text/plain": [
       "0.9736842105263158"
      ]
     },
     "execution_count": 53,
     "metadata": {},
     "output_type": "execute_result"
    }
   ],
   "source": [
    "clf=SVC(C=1000,gamma=0.001)\n",
    "clf.fit(x_train,y_train)\n",
    "clf.score(x_test,y_test)"
   ]
  }
 ],
 "metadata": {
  "kernelspec": {
   "display_name": "Python 3",
   "language": "python",
   "name": "python3"
  },
  "language_info": {
   "codemirror_mode": {
    "name": "ipython",
    "version": 3
   },
   "file_extension": ".py",
   "mimetype": "text/x-python",
   "name": "python",
   "nbconvert_exporter": "python",
   "pygments_lexer": "ipython3",
   "version": "3.7.2"
  }
 },
 "nbformat": 4,
 "nbformat_minor": 2
}
