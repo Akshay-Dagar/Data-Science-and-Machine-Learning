{
 "cells": [
  {
   "cell_type": "markdown",
   "metadata": {},
   "source": [
    "###### Watch videos: Naive_Bayes_Movie_Reviews (all parts) to understand this"
   ]
  },
  {
   "cell_type": "code",
   "execution_count": 17,
   "metadata": {},
   "outputs": [],
   "source": [
    "import numpy as np\n",
    "import pandas as pd\n",
    "import nltk\n",
    "from nltk.tokenize import RegexpTokenizer\n",
    "from nltk.corpus import stopwords\n",
    "from nltk.stem.porter import PorterStemmer\n",
    "from sklearn.feature_extraction.text import TfidfVectorizer\n",
    "from tqdm import tqdm\n",
    "from sklearn.naive_bayes import MultinomialNB,GaussianNB,BernoulliNB"
   ]
  },
  {
   "cell_type": "code",
   "execution_count": 2,
   "metadata": {
    "scrolled": true
   },
   "outputs": [
    {
     "data": {
      "text/html": [
       "<div>\n",
       "<style scoped>\n",
       "    .dataframe tbody tr th:only-of-type {\n",
       "        vertical-align: middle;\n",
       "    }\n",
       "\n",
       "    .dataframe tbody tr th {\n",
       "        vertical-align: top;\n",
       "    }\n",
       "\n",
       "    .dataframe thead th {\n",
       "        text-align: right;\n",
       "    }\n",
       "</style>\n",
       "<table border=\"1\" class=\"dataframe\">\n",
       "  <thead>\n",
       "    <tr style=\"text-align: right;\">\n",
       "      <th></th>\n",
       "      <th>review</th>\n",
       "      <th>label</th>\n",
       "    </tr>\n",
       "  </thead>\n",
       "  <tbody>\n",
       "    <tr>\n",
       "      <th>0</th>\n",
       "      <td>mature intelligent and highly charged melodram...</td>\n",
       "      <td>pos</td>\n",
       "    </tr>\n",
       "    <tr>\n",
       "      <th>1</th>\n",
       "      <td>http://video.google.com/videoplay?docid=211772...</td>\n",
       "      <td>pos</td>\n",
       "    </tr>\n",
       "    <tr>\n",
       "      <th>2</th>\n",
       "      <td>Title: Opera (1987) Director: Dario Argento Ca...</td>\n",
       "      <td>pos</td>\n",
       "    </tr>\n",
       "    <tr>\n",
       "      <th>3</th>\n",
       "      <td>I think a lot of people just wrote this off as...</td>\n",
       "      <td>pos</td>\n",
       "    </tr>\n",
       "    <tr>\n",
       "      <th>4</th>\n",
       "      <td>This is a story of two dogs and a cat looking ...</td>\n",
       "      <td>pos</td>\n",
       "    </tr>\n",
       "    <tr>\n",
       "      <th>5</th>\n",
       "      <td>Steve Carell comes into his own in his first s...</td>\n",
       "      <td>pos</td>\n",
       "    </tr>\n",
       "    <tr>\n",
       "      <th>6</th>\n",
       "      <td>I'm only going to write more because it's requ...</td>\n",
       "      <td>neg</td>\n",
       "    </tr>\n",
       "    <tr>\n",
       "      <th>7</th>\n",
       "      <td>OK, it was a \"risky\" move to rent this flick, ...</td>\n",
       "      <td>neg</td>\n",
       "    </tr>\n",
       "    <tr>\n",
       "      <th>8</th>\n",
       "      <td>Cannibalism, a pair of cinematic references to...</td>\n",
       "      <td>pos</td>\n",
       "    </tr>\n",
       "    <tr>\n",
       "      <th>9</th>\n",
       "      <td>This is one of the great modern kung fu films....</td>\n",
       "      <td>pos</td>\n",
       "    </tr>\n",
       "  </tbody>\n",
       "</table>\n",
       "</div>"
      ],
      "text/plain": [
       "                                              review label\n",
       "0  mature intelligent and highly charged melodram...   pos\n",
       "1  http://video.google.com/videoplay?docid=211772...   pos\n",
       "2  Title: Opera (1987) Director: Dario Argento Ca...   pos\n",
       "3  I think a lot of people just wrote this off as...   pos\n",
       "4  This is a story of two dogs and a cat looking ...   pos\n",
       "5  Steve Carell comes into his own in his first s...   pos\n",
       "6  I'm only going to write more because it's requ...   neg\n",
       "7  OK, it was a \"risky\" move to rent this flick, ...   neg\n",
       "8  Cannibalism, a pair of cinematic references to...   pos\n",
       "9  This is one of the great modern kung fu films....   pos"
      ]
     },
     "execution_count": 2,
     "metadata": {},
     "output_type": "execute_result"
    }
   ],
   "source": [
    "df=pd.read_csv(\"Train.csv\")\n",
    "df.head(10)"
   ]
  },
  {
   "cell_type": "code",
   "execution_count": 3,
   "metadata": {},
   "outputs": [
    {
     "data": {
      "text/plain": [
       "((40000,), (40000,))"
      ]
     },
     "execution_count": 3,
     "metadata": {},
     "output_type": "execute_result"
    }
   ],
   "source": [
    "train=df.values\n",
    "train_text=train[:,0]\n",
    "y_train=train[:,-1]\n",
    "train_text.shape,y_train.shape"
   ]
  },
  {
   "cell_type": "code",
   "execution_count": 4,
   "metadata": {},
   "outputs": [
    {
     "data": {
      "text/plain": [
       "(10000,)"
      ]
     },
     "execution_count": 4,
     "metadata": {},
     "output_type": "execute_result"
    }
   ],
   "source": [
    "test_text=pd.read_csv(\"Test.csv\").values.flatten()\n",
    "test_text.shape"
   ]
  },
  {
   "cell_type": "code",
   "execution_count": 5,
   "metadata": {},
   "outputs": [],
   "source": [
    "def clean(text):\n",
    "    \"\"\"Tokenization + Stopword Removal + Stemming\"\"\"\n",
    "    \n",
    "    sw=set(stopwords.words(\"english\"))\n",
    "    ps=PorterStemmer()\n",
    "    \n",
    "    cleaned_text=[]\n",
    "    for rev in tqdm(text):\n",
    "            \n",
    "        rev=rev.lower()\n",
    "        rev=rev.replace(\"<br /><br />\",\" \")             \n",
    "        #there are br tags in the data which we don't want, so we will replace them with \" \"\n",
    "            \n",
    "        #Tokenization\n",
    "        tokenizer=RegexpTokenizer(r\"[a-zA-Z]+\")         #select all words containing only alphabets\n",
    "        tokenized_rev=tokenizer.tokenize(rev)\n",
    "            \n",
    "        #Stopword removal and stemming\n",
    "        tokenized_rev_cleaned=[w for w in tokenized_rev if w not in sw]\n",
    "        tokenized_rev_stemmed=[ps.stem(w) for w in tokenized_rev_cleaned]\n",
    "            \n",
    "        #converting cleaned data in the form of a list back to string\n",
    "        cleaned_rev=\" \".join(tokenized_rev_stemmed)\n",
    "        cleaned_text.append(cleaned_rev)\n",
    "            \n",
    "    cleaned_text=np.array(cleaned_text)\n",
    "    return cleaned_text"
   ]
  },
  {
   "cell_type": "code",
   "execution_count": 6,
   "metadata": {
    "scrolled": true
   },
   "outputs": [
    {
     "name": "stderr",
     "output_type": "stream",
     "text": [
      "100%|███████████████████████████████████████████████████████████████████████████| 40000/40000 [02:52<00:00, 232.13it/s]\n"
     ]
    },
    {
     "data": {
      "text/plain": [
       "array(['matur intellig highli charg melodrama unbelivebl film china wei wei stun perform catylast love triangl simpli stun oppurun see magnific film take',\n",
       "       'http video googl com videoplay docid hl en distribut tri opt mass appeal want best possibl view rang forgo profit continu manual labor job gladli entertain work view texa tale pleas write like like alex like stuie texa texa tale write opinion rule',\n",
       "       'titl opera director dario argento cast cristina masillach ian charleson urbano barberini daria nicolodi review argento movi seen suspiria one blew away style color spooki stori line next decid go opera told one best man think discov ultim one favorit horror director opera young opera singer get big break main star creepi modern opera take mc beth get hit car betti understudi get part bad psycho make watch brutal murder friend co worker wow id heard good thing flick prepar level great film would take yeah movi shortcom ill get later part movi blew away first movi fill lot color suspiria expect bit like suspiria depart surpris look feel film somehow devoid color lot color certain scene like master kitchen live room sequenc argento fill screen lush green blue part film grayish black tone like distinct look real star show incred well orchestr death sequenc wow everi death scene like work art beauti destruct typic hack slash death sequenc death care construct shock get situat love everi second plenti blood mayhem style gonna spoil em though direct man realli origin beauti shot one love invent use camera one thought tarantino shot kill bill vol see bullet come chamber gun origin well movi lift honestli believ tarantino heavili influenc specif movi certain scene kill bill vol heck make featur mention whole scene beatrix hospit ell driver come kill influenc italian giallo friend proof anyhow tarantino refer asid movi amaz camera shot like scene crow fli crowd opera hous great stuff main reason argento becom one favorit act cast alright best far cristina marsillach tortur young opera singer betti look eye murder commit great rest cast littl wooden stiff noth would deter enjoy film thing like movi first logic thrown window certain scene special involv betti reaction she seen murder seem longest time went busi tell anyon whole thing even polic mean see someon brutal murder love one front eye walk away murder scene continu life someon would connect murder might even becom suspect also end bit anti climact see understand seem bit unnecessari way film end felt like could end earlier would felt redund that real big problem realli sinc enjoy rest beauti film still got lot argento territori cover devour everi step way like eat plate expens caviar guy realli good think film work art seen two em cant wait discov rest film argento man rate',\n",
       "       ...,\n",
       "       'much dead bodi pain unfunni actual squirm seat embarrass actor eva longoria prove carri film terribl romant comedi realli even comed time grate annoy ghost return earth keep cooki psychic date widow fianc fianc play paul rudd drippi charmless psychic play lake bell bring movi whatev anem energi felt sorri bell appear comic abil work overtim effort make materi work unfortun insurmount task make movi featur jason bigg toler drag rest cast like leo dicaprio end titan dead bodi actual pi ed lazi utter lack effort start think interest project get fund vast amount money funnel bland crap like serious hollywood think movi like good enough stupid realli think movi go public grade f',\n",
       "       'lifeforc truli bizarr adapt novel space vampir colin wilson script dan bannon jakobi joint american british space explor team make mind boggl discoveri alien spacecraft rest insid halley comet contain three entiti look like peopl one femal beauti oh allur mathilda may take discoveri back board spacecraft big mistak turn creatur drain life human be american colonel carlsen intens edgi commit steve railsback british colonel cain solid peter firth watch horror infest vampir overtak london fate earth balanc pictur certainli lack imagin move littl slowli time offer mani strang fanci idea eye pop visual hard amus first director tobe hooper three pictur deal cannon film follow texa chainsaw massacr ii invad mar remak make someth truli uniqu incorpor element sci fi vampir film zombi film end world saga like noth seen railsback firth abli support strong brit actor frank finlay patrick stewart michael gothard aubrey morri john hallam mathilda may memor bewitch enigmat villai certainli hurt perform great deal scene nude also worth note stir music score none pink panther compos henri mancini ridicul may found fun well flamboy spirit entertain',\n",
       "       'saw movi screener best movi seen loooong time love jame franco sooo hot sienna miller make perfect coupl want give away happen play pair newlyw go honeymoon niagara fall pretti wild stuff happen along way movi realli realli funni sad origin even say remind go see cri hard realli love wanna see soon come friend cri hope come soon anyon know would realli go see'],\n",
       "      dtype='<U8290')"
      ]
     },
     "execution_count": 6,
     "metadata": {},
     "output_type": "execute_result"
    }
   ],
   "source": [
    "train_text_cleaned=clean(train_text)\n",
    "train_text_cleaned"
   ]
  },
  {
   "cell_type": "code",
   "execution_count": 7,
   "metadata": {},
   "outputs": [
    {
     "data": {
      "text/plain": [
       "<40000x15103 sparse matrix of type '<class 'numpy.float64'>'\n",
       "\twith 4187360 stored elements in Compressed Sparse Row format>"
      ]
     },
     "execution_count": 7,
     "metadata": {},
     "output_type": "execute_result"
    }
   ],
   "source": [
    "vec=TfidfVectorizer(ngram_range=(1,3),min_df=0.001,max_df=0.7)      #features will be of sizes 1 word,2 words and 3 words\n",
    "x_train=vec.fit_transform(train_text_cleaned)\n",
    "x_train"
   ]
  },
  {
   "cell_type": "code",
   "execution_count": 8,
   "metadata": {},
   "outputs": [
    {
     "name": "stderr",
     "output_type": "stream",
     "text": [
      "100%|███████████████████████████████████████████████████████████████████████████| 10000/10000 [00:32<00:00, 310.16it/s]\n"
     ]
    },
    {
     "data": {
      "text/plain": [
       "array(['rememb old kung fu movi use watch friday saturday late night babysitt thought charg well movi play exactli like one movi patsi kensit biggest claim fame love interest mel gibson charact lethal weapon perform one reason never made big terribl actress lethal weapon thought cute cute enough check movi includ love music love danc anoth big let obvious impress either attract eye soul scream turn play anoth cheap predict role done badli movi kensit star comedienn good one either work club franc cut homeland make ear bleed luck even wors french govern want throw expir visa mayb caught act get marri casanova freiss luck predict begin terribl way give movi neg rate star rate',\n",
       "       'movi anoth one list movi bother saw year ago adolesc stay late annoy find romanc everyth els histori call bait switch movi one interest titl actual movi scam subject deserv good cinemat treatment movi almost insult serv actual member lafayett escadril run law product abus home realiti idealist want someth help franc suspect mani came upper class background tab hunter charact fli school smart aleck know all individu one portray last two day would either stockad infantri disciplin french armi often rather fierc short anoth hollywierd version histor episod deserv proper treatment',\n",
       "       'world thing like get dvd player home even get packag distribut absolut zero screen movi use term loos go put video store shelf anymor diy film make come entitl get group friend rel togeth crappi camcord aw stori put togeth creat heap pile crap call movi wish peopl would quit use word indi campi describ type movi either profess would someth like consid accept someon tri sell car bad movi take back say lemon surgic procedur su doctor malpractic wish could get time money back watch shame video store stock movi like rip public want campi go get friday th movi even later one dead aliv least make want kill movi like make peopl automat equat independ garbag',\n",
       "       ...,\n",
       "       'although small film kind got lost wake waterfront edg citi certainli hold star stud classic anoth stori dock code silenc rule next corrupt union lee j cobb ran waterfront jack warden realli small time corrupt real enough gang boss one dock intimid worker handi fist bail hook get rest kickback part hard earn money hard earn money job one guy warden intimid sidney poitier anoth gang boss tri intimid newcom john cassavet poitier take wing two develop quit friendship poitier wife rubi dee even fix cassavet kathleen maguir warden truli one loathsom creatur sad sheer forc person physic prowess cow almost everyon els submiss sens tougher lee j cobb reli impress collect goon enforc waterfront edg citi mark big screen directori debut martin ritt great job good cast new york base player spot locat cinematographi film low budget show impress ensembl cast realli care cassavet loner past hip tough poitier fine person favorit film rubi dee gotten award perform final scene cassavet outstand catch one ever possibl wish dvd vh',\n",
       "       'first saw film earli cabl uniqu statement sixti cultur war music race bunch thing certain miss howev year ago came back life start enjoy son littl young lot theme understand danc hippi fun watch get idea end iron think film genr stand alon geniu love also uniqu justic central park music lost one way anoth tommi top heavi hand direct oliv seem like crowd control silver screen wall much abstract self import indulg dribbl listen failur flesh hair sound right time today eighti must sixti truli timeless',\n",
       "       'recogn pictur diner cover dvd made realiz local movi word detroit titl further suspecion look thing ye local movi pick someon knew actual knew produc director dont rememb said produc director got peopl pay movi brilliant great idea movi maker get capit movi thank cast crew investor cast crew other get profit imagin profit um anyway film total underwhelm special effect special special children ride small buse school act amus intent howev great line guy say well bone aint gonna smoke pickup line unfortun fun part whole film stori well sort follow way everyth stop make sens sit watch suddenli end mean resolut anyth like ran time sorri folk time goodnight sat baffl boo threw anoth film minut later neighbor mine show one guy movi threw back actor gave us run commentari awesom total rip movi could ask absurd scene motorbik chase scene dark could liter guy run past flashlight motorbik jaw droppingli face sudden end enough make howl pain zombi look less like zombi cowork dont work morgu either recommend see get someon movi come give run commentari thing went behind scene make sure person hate movi add fun otherwis give one pass rent someth like feeder want jaw droppingli bad funni way movi'],\n",
       "      dtype='<U7315')"
      ]
     },
     "execution_count": 8,
     "metadata": {},
     "output_type": "execute_result"
    }
   ],
   "source": [
    "test_text_cleaned=clean(test_text)\n",
    "test_text_cleaned"
   ]
  },
  {
   "cell_type": "code",
   "execution_count": 9,
   "metadata": {},
   "outputs": [
    {
     "data": {
      "text/plain": [
       "<10000x15103 sparse matrix of type '<class 'numpy.float64'>'\n",
       "\twith 1057675 stored elements in Compressed Sparse Row format>"
      ]
     },
     "execution_count": 9,
     "metadata": {},
     "output_type": "execute_result"
    }
   ],
   "source": [
    "x_test=vec.transform(test_text_cleaned)\n",
    "x_test"
   ]
  },
  {
   "cell_type": "code",
   "execution_count": 10,
   "metadata": {},
   "outputs": [
    {
     "data": {
      "text/plain": [
       "MultinomialNB(alpha=1.0, class_prior=None, fit_prior=True)"
      ]
     },
     "execution_count": 10,
     "metadata": {},
     "output_type": "execute_result"
    }
   ],
   "source": [
    "clf=MultinomialNB()\n",
    "clf"
   ]
  },
  {
   "cell_type": "code",
   "execution_count": 11,
   "metadata": {},
   "outputs": [
    {
     "data": {
      "text/plain": [
       "MultinomialNB(alpha=1.0, class_prior=None, fit_prior=True)"
      ]
     },
     "execution_count": 11,
     "metadata": {},
     "output_type": "execute_result"
    }
   ],
   "source": [
    "clf.fit(x_train,y_train)"
   ]
  },
  {
   "cell_type": "code",
   "execution_count": 12,
   "metadata": {
    "scrolled": true
   },
   "outputs": [
    {
     "data": {
      "text/plain": [
       "array(['neg', 'pos', 'neg', ..., 'pos', 'pos', 'neg'], dtype='<U3')"
      ]
     },
     "execution_count": 12,
     "metadata": {},
     "output_type": "execute_result"
    }
   ],
   "source": [
    "predictions=clf.predict(x_test)\n",
    "predictions"
   ]
  },
  {
   "cell_type": "code",
   "execution_count": 13,
   "metadata": {},
   "outputs": [],
   "source": [
    "d={\"Id\":np.arange(0,predictions.shape[0]),\"label\":predictions}\n",
    "df=pd.DataFrame(d)\n",
    "df.to_csv(\"submission.csv\",index=False)"
   ]
  },
  {
   "cell_type": "code",
   "execution_count": 23,
   "metadata": {},
   "outputs": [],
   "source": [
    "TfidfVectorizer?"
   ]
  }
 ],
 "metadata": {
  "kernelspec": {
   "display_name": "Python 3",
   "language": "python",
   "name": "python3"
  },
  "language_info": {
   "codemirror_mode": {
    "name": "ipython",
    "version": 3
   },
   "file_extension": ".py",
   "mimetype": "text/x-python",
   "name": "python",
   "nbconvert_exporter": "python",
   "pygments_lexer": "ipython3",
   "version": "3.7.3"
  }
 },
 "nbformat": 4,
 "nbformat_minor": 2
}
