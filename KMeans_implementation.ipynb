{
 "cells": [
  {
   "cell_type": "code",
   "execution_count": 1,
   "metadata": {},
   "outputs": [],
   "source": [
    "import numpy as np\n",
    "import matplotlib.pyplot as plt"
   ]
  },
  {
   "cell_type": "code",
   "execution_count": 2,
   "metadata": {},
   "outputs": [],
   "source": [
    "x=np.array([[1,2],[1.5,1.8],[7,8],[8,8],[1,0.6],[8.5,9]]) "
   ]
  },
  {
   "cell_type": "code",
   "execution_count": 3,
   "metadata": {},
   "outputs": [
    {
     "data": {
      "image/png": "[encoded data removed]",
      "text/plain": [
       "<Figure size 432x288 with 1 Axes>"
      ]
     },
     "metadata": {
      "needs_background": "light"
     },
     "output_type": "display_data"
    }
   ],
   "source": [
    "plt.scatter(x[:,0],x[:,1])\n",
    "plt.show()"
   ]
  },
  {
   "cell_type": "code",
   "execution_count": 7,
   "metadata": {},
   "outputs": [],
   "source": [
    "class K_Means:\n",
    "    def __init__(self,k=2,max_iter=100,means=[]):     \n",
    "        self.k=k\n",
    "        self.max_iter=max_iter\n",
    "        \n",
    "    def fit(self,data):                              #K is no. of clusters\n",
    "        self.means=[]\n",
    "        for i in range(self.k):                      #initializing the means,we will just assign first K data points as initial means \n",
    "            self.means.append(data[i])\n",
    "        for i in range(self.max_iter):\n",
    "            #assign the data points to clusters:\n",
    "            clusters=[]\n",
    "            for j in range(self.k):\n",
    "                clusters.append([])             #creating an empty clusters\n",
    "            for point in data:                  #go to each data point\n",
    "\n",
    "                #find the distance of this point from each mean value:\n",
    "                #find the minimum of these distances:\n",
    "                #find the mean for which we get the minimum distance:\n",
    "\n",
    "                distances=[((point-m)**2).sum() for m in self.means]                #as point is an np array, we can caluclate euclidean distance using elementwise operations\n",
    "                min_dist=min(distances)\n",
    "                closest_mean=distances.index(min_dist)\n",
    "\n",
    "                #add this point to the cluster of that mean:\n",
    "\n",
    "                clusters[closest_mean].append(point)\n",
    "\n",
    "\n",
    "            #Get new means for each cluster:\n",
    "\n",
    "            no_change=0                                        #no. of means in whose value there has been no change from prev. iter\n",
    "            for j in range(self.k):\n",
    "                new_mean=np.average(clusters[j],axis=0)        #inbuilt function to get mean of a numpy array\n",
    "                if np.array_equal(new_mean,self.means[j]):\n",
    "                    no_change+=1\n",
    "                self.means[j]=new_mean\n",
    "            if no_change==self.k:                                   #if this becomes equal to K, we can stop iterating further as there is no change in any mean values form previous iteration\n",
    "                break\n",
    "                \n",
    "    def predict(self,data):\n",
    "        predictions=[]\n",
    "        for point in data:\n",
    "            distances=[((point-m)**2).sum() for m in self.means]             \n",
    "            min_dist=min(distances)\n",
    "            closest_mean=distances.index(min_dist)\n",
    "            predictions.append(closest_mean)\n",
    "        return predictions"
   ]
  },
  {
   "cell_type": "code",
   "execution_count": 8,
   "metadata": {},
   "outputs": [
    {
     "data": {
      "text/plain": [
       "[array([1.16666667, 1.46666667]), array([7.83333333, 8.33333333])]"
      ]
     },
     "execution_count": 8,
     "metadata": {},
     "output_type": "execute_result"
    }
   ],
   "source": [
    "km=K_Means()\n",
    "km.fit(x)                                                     #gives us the means of the clusters\n",
    "km.means"
   ]
  },
  {
   "cell_type": "code",
   "execution_count": 9,
   "metadata": {},
   "outputs": [
    {
     "data": {
      "text/plain": [
       "[0, 0, 1, 1, 0, 1]"
      ]
     },
     "execution_count": 9,
     "metadata": {},
     "output_type": "execute_result"
    }
   ],
   "source": [
    "km.predict(x)"
   ]
  }
 ],
 "metadata": {
  "kernelspec": {
   "display_name": "Python 3",
   "language": "python",
   "name": "python3"
  },
  "language_info": {
   "codemirror_mode": {
    "name": "ipython",
    "version": 3
   },
   "file_extension": ".py",
   "mimetype": "text/x-python",
   "name": "python",
   "nbconvert_exporter": "python",
   "pygments_lexer": "ipython3",
   "version": "3.7.2"
  }
 },
 "nbformat": 4,
 "nbformat_minor": 2
}
