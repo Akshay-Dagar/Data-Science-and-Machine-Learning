{
 "cells": [
  {
   "cell_type": "code",
   "execution_count": 22,
   "metadata": {},
   "outputs": [],
   "source": [
    "import numpy as np\n",
    "import pandas as pd\n",
    "import matplotlib.pyplot as plt\n",
    "from collections import Counter\n",
    "from keras.datasets import mnist\n",
    "from tqdm import tqdm"
   ]
  },
  {
   "cell_type": "markdown",
   "metadata": {},
   "source": [
    "## Writing the KNN function:"
   ]
  },
  {
   "cell_type": "code",
   "execution_count": 23,
   "metadata": {},
   "outputs": [],
   "source": [
    "def distance(x1,x2,p=2):\n",
    "    if p==1:                                           #L1 distance (Manhattan)\n",
    "        return abs(x1-x2)\n",
    "    else:                                              #L2 distance (Euclidean)\n",
    "        return (sum((x1-x2)**2))**0.5"
   ]
  },
  {
   "cell_type": "code",
   "execution_count": 28,
   "metadata": {},
   "outputs": [],
   "source": [
    "def KNN(X,Y,x,k=5,p=2):                                #(X=train_data,Y=train_labels,x=test_data)\n",
    "    \n",
    "    dist=[]                                            #will store distance of x \n",
    "    for i in range(X.shape[0]):\n",
    "        d=distance(X[i],x,p)                           #calculating distance between x and eachpoint in training data (X[i])\n",
    "        dist.append((Y[i],d))\n",
    "    \n",
    "    dist=sorted(dist,key=lambda x:x[1])                #sorting in ascedning order of distances\n",
    "    dist=dist[:k]                                      #we choose the K nearest points only\n",
    "    \n",
    "    kLabels=[]\n",
    "    for d in dist:\n",
    "        kLabels.append(d[0])\n",
    "        \n",
    "    c=Counter(kLabels)\n",
    "    \n",
    "    return c.most_common(1)[0][0]                      #return the label with highest frequecy as predicted value for x"
   ]
  },
  {
   "cell_type": "markdown",
   "metadata": {},
   "source": [
    "## Fetching the Dataset:"
   ]
  },
  {
   "cell_type": "code",
   "execution_count": 29,
   "metadata": {},
   "outputs": [
    {
     "name": "stdout",
     "output_type": "stream",
     "text": [
      "(60000, 28, 28)\n",
      "(60000,)\n",
      "(10000, 28, 28)\n",
      "(10000,)\n"
     ]
    }
   ],
   "source": [
    "(x_train,y_train),(x_test,y_test)=mnist.load_data()\n",
    "\n",
    "print(x_train.shape,y_train.shape,x_test.shape,y_test.shape,sep=\"\\n\")"
   ]
  },
  {
   "cell_type": "code",
   "execution_count": 30,
   "metadata": {},
   "outputs": [
    {
     "name": "stdout",
     "output_type": "stream",
     "text": [
      "(60000, 784)\n",
      "(60000,)\n",
      "(10000, 784)\n",
      "(10000,)\n"
     ]
    }
   ],
   "source": [
    "train_data=x_train.reshape(x_train.shape[0],x_train.shape[1]*x_train.shape[2])\n",
    "test_data=x_test.reshape(x_test.shape[0],x_test.shape[1]*x_test.shape[2])\n",
    "train_labels=y_train\n",
    "test_labels=y_test\n",
    "\n",
    "print(train_data.shape,train_labels.shape,test_data.shape,test_labels.shape,sep=\"\\n\")"
   ]
  },
  {
   "cell_type": "markdown",
   "metadata": {},
   "source": [
    "## Predicting:"
   ]
  },
  {
   "cell_type": "code",
   "execution_count": null,
   "metadata": {},
   "outputs": [],
   "source": [
    "#u can try to run this, but it will take a looooooooong time (1 day) (knn is brute force)\n",
    "predictions=[]\n",
    "\n",
    "for x in tqdm(test_data):\n",
    "    y=KNN(train_data,train_labels,x)   #prediction for x\n",
    "    \n",
    "    predictions.append(y)\n",
    "\n",
    "predictions"
   ]
  },
  {
   "cell_type": "code",
   "execution_count": 31,
   "metadata": {
    "scrolled": true
   },
   "outputs": [
    {
     "data": {
      "text/plain": [
       "7"
      ]
     },
     "execution_count": 31,
     "metadata": {},
     "output_type": "execute_result"
    }
   ],
   "source": [
    "#instead, let's predict only for 1 point\n",
    "KNN(train_data,train_labels,test_data[0])"
   ]
  },
  {
   "cell_type": "code",
   "execution_count": 32,
   "metadata": {},
   "outputs": [
    {
     "data": {
      "text/plain": [
       "7"
      ]
     },
     "execution_count": 32,
     "metadata": {},
     "output_type": "execute_result"
    }
   ],
   "source": [
    "test_labels[0]           #same as above"
   ]
  },
  {
   "cell_type": "markdown",
   "metadata": {},
   "source": [
    "## Explanation:\n",
    "###### See KNN video (mine)"
   ]
  }
 ],
 "metadata": {
  "kernelspec": {
   "display_name": "Python 3",
   "language": "python",
   "name": "python3"
  },
  "language_info": {
   "codemirror_mode": {
    "name": "ipython",
    "version": 3
   },
   "file_extension": ".py",
   "mimetype": "text/x-python",
   "name": "python",
   "nbconvert_exporter": "python",
   "pygments_lexer": "ipython3",
   "version": "3.7.2"
  }
 },
 "nbformat": 4,
 "nbformat_minor": 2
}
