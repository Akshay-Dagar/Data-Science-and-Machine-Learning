{
 "cells": [
  {
   "cell_type": "code",
   "execution_count": 1,
   "metadata": {},
   "outputs": [],
   "source": [
    "from sklearn.decomposition import PCA                      #importing PCA\n",
    "from matplotlib import pyplot as plt\n",
    "import numpy as np"
   ]
  },
  {
   "cell_type": "code",
   "execution_count": 2,
   "metadata": {},
   "outputs": [
    {
     "data": {
      "image/png": "[encoded data removed]",
      "text/plain": [
       "<Figure size 432x288 with 1 Axes>"
      ]
     },
     "metadata": {
      "needs_background": "light"
     },
     "output_type": "display_data"
    }
   ],
   "source": [
    "#training data\n",
    "x1=[1,2,3,4,5,6]                                           #feature 1 values\n",
    "x2=[7.5,11,16,18,20,26]                                    #feature 2 values\n",
    "plt.scatter(x1,x2)\n",
    "plt.show()"
   ]
  },
  {
   "cell_type": "code",
   "execution_count": 3,
   "metadata": {},
   "outputs": [
    {
     "data": {
      "text/plain": [
       "array([[ 1. ,  7.5],\n",
       "       [ 2. , 11. ],\n",
       "       [ 3. , 16. ],\n",
       "       [ 4. , 18. ],\n",
       "       [ 5. , 20. ],\n",
       "       [ 6. , 26. ]])"
      ]
     },
     "execution_count": 3,
     "metadata": {},
     "output_type": "execute_result"
    }
   ],
   "source": [
    "x_train=np.c_[x1,x2]                                      #combining x1 and x2 to form a 2d array\n",
    "x_train"
   ]
  },
  {
   "cell_type": "code",
   "execution_count": 4,
   "metadata": {},
   "outputs": [
    {
     "data": {
      "text/plain": [
       "array([[-9.26049952e+00,  9.65263430e-03],\n",
       "       [-5.62047228e+00,  2.38560598e-02],\n",
       "       [-5.36562171e-01, -3.68391297e-01],\n",
       "       [ 1.65958219e+00,  5.22629108e-02],\n",
       "       [ 3.85572654e+00,  4.72917119e-01],\n",
       "       [ 9.90222524e+00, -1.90297426e-01]])"
      ]
     },
     "execution_count": 4,
     "metadata": {},
     "output_type": "execute_result"
    }
   ],
   "source": [
    "pca=PCA()                                                 #lets call this transformer :)\n",
    "x_new=pca.fit_transform(x_train)                          #new data\n",
    "x_new                                                     #as u can see, feature 1 is much higher than feature 2"
   ]
  },
  {
   "cell_type": "code",
   "execution_count": 5,
   "metadata": {},
   "outputs": [
    {
     "data": {
      "text/plain": [
       "array([[ 0.27096719,  0.96258858],\n",
       "       [ 0.96258858, -0.27096719]])"
      ]
     },
     "execution_count": 5,
     "metadata": {},
     "output_type": "execute_result"
    }
   ],
   "source": [
    "pca.components_                                 #this will give us the lines along which are new axes are based(slope m & c)"
   ]
  },
  {
   "cell_type": "code",
   "execution_count": 6,
   "metadata": {},
   "outputs": [
    {
     "data": {
      "text/plain": [
       "array([[ 1. ,  7.5],\n",
       "       [ 2. , 11. ],\n",
       "       [ 3. , 16. ],\n",
       "       [ 4. , 18. ],\n",
       "       [ 5. , 20. ],\n",
       "       [ 6. , 26. ]])"
      ]
     },
     "execution_count": 6,
     "metadata": {},
     "output_type": "execute_result"
    }
   ],
   "source": [
    "#getting back original data\n",
    "pca.inverse_transform(x_new)                    #we got our original data back without any loss :)"
   ]
  },
  {
   "cell_type": "code",
   "execution_count": 7,
   "metadata": {},
   "outputs": [
    {
     "data": {
      "text/plain": [
       "array([[-9.26049952],\n",
       "       [-5.62047228],\n",
       "       [-0.53656217],\n",
       "       [ 1.65958219],\n",
       "       [ 3.85572654],\n",
       "       [ 9.90222524]])"
      ]
     },
     "execution_count": 7,
     "metadata": {},
     "output_type": "execute_result"
    }
   ],
   "source": [
    "#but we wanted to remove features, i.e. we wanted only 1 feature after transform:\n",
    "pca=PCA(n_components=1)\n",
    "x_new=pca.fit_transform(x_train)                          #new data\n",
    "x_new                                                     #only 1 feature now :)"
   ]
  },
  {
   "cell_type": "code",
   "execution_count": 8,
   "metadata": {},
   "outputs": [
    {
     "data": {
      "text/plain": [
       "array([[0.27096719, 0.96258858]])"
      ]
     },
     "execution_count": 8,
     "metadata": {},
     "output_type": "execute_result"
    }
   ],
   "source": [
    "pca.components_                                           #only 1 axis :)"
   ]
  },
  {
   "cell_type": "code",
   "execution_count": 9,
   "metadata": {},
   "outputs": [
    {
     "data": {
      "text/plain": [
       "array([[ 0.99070848,  7.50261555],\n",
       "       [ 1.97703643, 11.00646421],\n",
       "       [ 3.35460926, 15.90017805],\n",
       "       [ 3.94969232, 18.01416153],\n",
       "       [ 4.54477538, 20.12814502],\n",
       "       [ 6.18317813, 25.94843564]])"
      ]
     },
     "execution_count": 9,
     "metadata": {},
     "output_type": "execute_result"
    }
   ],
   "source": [
    "#lets see what happens now if we try to get original data back(obviously we won't get the exact data back as we have lost some\n",
    "#data by removing an axis(feature)):\n",
    "x_inv=pca.inverse_transform(x_new)      \n",
    "x_inv                                                     #near original, but not exactly"
   ]
  },
  {
   "cell_type": "code",
   "execution_count": 10,
   "metadata": {},
   "outputs": [
    {
     "data": {
      "image/png": "[encoded data removed]",
      "text/plain": [
       "<Figure size 432x288 with 1 Axes>"
      ]
     },
     "metadata": {
      "needs_background": "light"
     },
     "output_type": "display_data"
    }
   ],
   "source": [
    "#lets plot this x_inv:\n",
    "plt.plot(x_inv[:,0],x_inv[:,1])\n",
    "plt.scatter(x_inv[:,0],x_inv[:,1])\n",
    "plt.show()                                                #as we can see, this lies on a straight line\n",
    "                                                          #that is because, pca transformed it into a single line"
   ]
  },
  {
   "cell_type": "code",
   "execution_count": 34,
   "metadata": {},
   "outputs": [],
   "source": [
    "#we got near enough results to our original data in this case as originally the data points were lying close to the line.\n",
    "#if they were not lying in such a way that could assume them in a line, the inverted data points would have been highly\n",
    "#different from original. But for such a data (which can't be assumed to fall on a line) we would never have applied PCA\n",
    "#as it would have resulted in high loss of data(as already discussed in my notes)."
   ]
  }
 ],
 "metadata": {
  "kernelspec": {
   "display_name": "Python 3",
   "language": "python",
   "name": "python3"
  },
  "language_info": {
   "codemirror_mode": {
    "name": "ipython",
    "version": 3
   },
   "file_extension": ".py",
   "mimetype": "text/x-python",
   "name": "python",
   "nbconvert_exporter": "python",
   "pygments_lexer": "ipython3",
   "version": "3.7.2"
  }
 },
 "nbformat": 4,
 "nbformat_minor": 2
}
