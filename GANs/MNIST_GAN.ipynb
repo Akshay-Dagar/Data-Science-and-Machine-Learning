{
 "cells": [
  {
   "cell_type": "code",
   "execution_count": 0,
   "metadata": {
    "colab": {},
    "colab_type": "code",
    "id": "OSGew-Svg9za"
   },
   "outputs": [],
   "source": [
    "import numpy as np\n",
    "import matplotlib.pyplot as plt\n",
    "from tensorflow.keras.layers import Dense,LeakyReLU,Input\n",
    "from tensorflow.keras.datasets import mnist\n",
    "from tensorflow.keras.models import Sequential,Model,load_model\n",
    "from tensorflow.keras.optimizers import Adam\n",
    "from tqdm import tqdm_notebook\n",
    "from time import time"
   ]
  },
  {
   "cell_type": "code",
   "execution_count": 0,
   "metadata": {
    "colab": {},
    "colab_type": "code",
    "id": "GNq2npDjvmwZ"
   },
   "outputs": [],
   "source": [
    "parent_dir=\"/content/drive/My Drive/Colab Notebooks/GANs/\"                            #to be changed if run on different computers"
   ]
  },
  {
   "cell_type": "code",
   "execution_count": 0,
   "metadata": {
    "colab": {},
    "colab_type": "code",
    "id": "PCifs2BhhvDi"
   },
   "outputs": [],
   "source": [
    "x_train=mnist.load_data()[0][0]                                #we only need the images, not the labels"
   ]
  },
  {
   "cell_type": "code",
   "execution_count": 4,
   "metadata": {
    "colab": {
     "base_uri": "https://localhost:8080/",
     "height": 34
    },
    "colab_type": "code",
    "executionInfo": {
     "elapsed": 4922,
     "status": "ok",
     "timestamp": 1585398048866,
     "user": {
      "displayName": "Akshay Dagar",
      "photoUrl": "https://lh3.googleusercontent.com/a-/AOh14GjekPkchpDLR5vpTmzHIr6X4_LWZHsYame_CoWZ5w=s64",
      "userId": "04138874850621617552"
     },
     "user_tz": -330
    },
    "id": "bnNkldYsj_Nf",
    "outputId": "bc5269d3-5d1e-4649-e777-687053b43903"
   },
   "outputs": [
    {
     "data": {
      "text/plain": [
       "(60000, 28, 28)"
      ]
     },
     "execution_count": 4,
     "metadata": {
      "tags": []
     },
     "output_type": "execute_result"
    }
   ],
   "source": [
    "x_train.shape"
   ]
  },
  {
   "cell_type": "code",
   "execution_count": 5,
   "metadata": {
    "colab": {
     "base_uri": "https://localhost:8080/",
     "height": 248
    },
    "colab_type": "code",
    "executionInfo": {
     "elapsed": 4917,
     "status": "ok",
     "timestamp": 1585398048867,
     "user": {
      "displayName": "Akshay Dagar",
      "photoUrl": "https://lh3.googleusercontent.com/a-/AOh14GjekPkchpDLR5vpTmzHIr6X4_LWZHsYame_CoWZ5w=s64",
      "userId": "04138874850621617552"
     },
     "user_tz": -330
    },
    "id": "gTQnJUWLkFfy",
    "outputId": "47ff9b54-21f0-4c47-fad8-fa7793812ab9"
   },
   "outputs": [
    {
     "data": {
      "image/png": "[encoded data removed]",
      "text/plain": [
       "<Figure size 432x288 with 1 Axes>"
      ]
     },
     "metadata": {
      "tags": []
     },
     "output_type": "display_data"
    }
   ],
   "source": [
    "x_train=(x_train.astype(\"float\")-(255/2))/(255/2)                #this converts pixel values from range of [0,255] to [-1,1]\n",
    "\n",
    "#sample image display:\n",
    "\n",
    "plt.imshow(x_train[0],cmap=\"gray\")\n",
    "plt.axis(\"off\")\n",
    "plt.show()"
   ]
  },
  {
   "cell_type": "code",
   "execution_count": 6,
   "metadata": {
    "colab": {
     "base_uri": "https://localhost:8080/",
     "height": 34
    },
    "colab_type": "code",
    "executionInfo": {
     "elapsed": 4911,
     "status": "ok",
     "timestamp": 1585398048867,
     "user": {
      "displayName": "Akshay Dagar",
      "photoUrl": "https://lh3.googleusercontent.com/a-/AOh14GjekPkchpDLR5vpTmzHIr6X4_LWZHsYame_CoWZ5w=s64",
      "userId": "04138874850621617552"
     },
     "user_tz": -330
    },
    "id": "f3XsyIkuwogF",
    "outputId": "1c6df68d-7754-48e3-c768-e6c369620150"
   },
   "outputs": [
    {
     "data": {
      "text/plain": [
       "(60000, 784)"
      ]
     },
     "execution_count": 6,
     "metadata": {
      "tags": []
     },
     "output_type": "execute_result"
    }
   ],
   "source": [
    "x_train=x_train.reshape(-1,x_train.shape[1]*x_train.shape[2])\n",
    "x_train.shape"
   ]
  },
  {
   "cell_type": "markdown",
   "metadata": {
    "colab_type": "text",
    "id": "kcYBLvnqlQdm"
   },
   "source": [
    "###### Defining Some Constants:\n"
   ]
  },
  {
   "cell_type": "code",
   "execution_count": 0,
   "metadata": {
    "colab": {},
    "colab_type": "code",
    "id": "bWwk3Sb8kr7q"
   },
   "outputs": [],
   "source": [
    "epochs=100               #we will run the entire training process (training of generator+training of discriminator) for these many epochs\n",
    "batch_size=256           #the no. of images in each batch that will be passed to discriminator\n",
    "n_batches=int(x_train.shape[0]/batch_size)                     #total no. of batches that will be passed to discriminator in 1 epoch\n",
    "noise_dim=100            #dimensions of the inital noise vector that we will pass to the generator\n",
    "\n",
    "opt=Adam(lr=0.0002,beta_1=0.5)                                 #these parameters have been found to work well with GANs in practice"
   ]
  },
  {
   "cell_type": "markdown",
   "metadata": {
    "colab_type": "text",
    "id": "7un5iB_wnE5W"
   },
   "source": [
    "# Defining the Generator and Discriminator Models:"
   ]
  },
  {
   "cell_type": "code",
   "execution_count": 8,
   "metadata": {
    "colab": {
     "base_uri": "https://localhost:8080/",
     "height": 397
    },
    "colab_type": "code",
    "executionInfo": {
     "elapsed": 4901,
     "status": "ok",
     "timestamp": 1585398048868,
     "user": {
      "displayName": "Akshay Dagar",
      "photoUrl": "https://lh3.googleusercontent.com/a-/AOh14GjekPkchpDLR5vpTmzHIr6X4_LWZHsYame_CoWZ5w=s64",
      "userId": "04138874850621617552"
     },
     "user_tz": -330
    },
    "id": "nZjM7PoMmtwZ",
    "outputId": "2a09f8e0-3940-4782-aa8d-b3387f806bcf"
   },
   "outputs": [
    {
     "name": "stdout",
     "output_type": "stream",
     "text": [
      "Model: \"sequential\"\n",
      "_________________________________________________________________\n",
      "Layer (type)                 Output Shape              Param #   \n",
      "=================================================================\n",
      "dense (Dense)                (None, 256)               25856     \n",
      "_________________________________________________________________\n",
      "leaky_re_lu (LeakyReLU)      (None, 256)               0         \n",
      "_________________________________________________________________\n",
      "dense_1 (Dense)              (None, 512)               131584    \n",
      "_________________________________________________________________\n",
      "leaky_re_lu_1 (LeakyReLU)    (None, 512)               0         \n",
      "_________________________________________________________________\n",
      "dense_2 (Dense)              (None, 1024)              525312    \n",
      "_________________________________________________________________\n",
      "leaky_re_lu_2 (LeakyReLU)    (None, 1024)              0         \n",
      "_________________________________________________________________\n",
      "dense_3 (Dense)              (None, 784)               803600    \n",
      "=================================================================\n",
      "Total params: 1,486,352\n",
      "Trainable params: 1,486,352\n",
      "Non-trainable params: 0\n",
      "_________________________________________________________________\n"
     ]
    }
   ],
   "source": [
    "gen=Sequential()\n",
    "\n",
    "gen.add(Dense(256,input_shape=(noise_dim,)))\n",
    "gen.add(LeakyReLU(0.2))                                        #alpha=0.2 (this means that for z<0, output of leakyrelu(z) will be 0.2*x)\n",
    "\n",
    "gen.add(Dense(512))\n",
    "gen.add(LeakyReLU(0.2))\n",
    "\n",
    "gen.add(Dense(1024))\n",
    "gen.add(LeakyReLU(0.2))\n",
    "\n",
    "gen.add(Dense(x_train.shape[1],activation=\"tanh\"))\n",
    "\n",
    "gen.compile(loss=\"binary_crossentropy\",optimizer=opt)\n",
    "gen.summary()"
   ]
  },
  {
   "cell_type": "code",
   "execution_count": 9,
   "metadata": {
    "colab": {
     "base_uri": "https://localhost:8080/",
     "height": 328
    },
    "colab_type": "code",
    "executionInfo": {
     "elapsed": 4896,
     "status": "ok",
     "timestamp": 1585398048869,
     "user": {
      "displayName": "Akshay Dagar",
      "photoUrl": "https://lh3.googleusercontent.com/a-/AOh14GjekPkchpDLR5vpTmzHIr6X4_LWZHsYame_CoWZ5w=s64",
      "userId": "04138874850621617552"
     },
     "user_tz": -330
    },
    "id": "U9MdOwNeqtmd",
    "outputId": "69ff1c54-ed84-4dd3-de54-b064dba23591"
   },
   "outputs": [
    {
     "name": "stdout",
     "output_type": "stream",
     "text": [
      "Model: \"sequential_1\"\n",
      "_________________________________________________________________\n",
      "Layer (type)                 Output Shape              Param #   \n",
      "=================================================================\n",
      "dense_4 (Dense)              (None, 512)               401920    \n",
      "_________________________________________________________________\n",
      "leaky_re_lu_3 (LeakyReLU)    (None, 512)               0         \n",
      "_________________________________________________________________\n",
      "dense_5 (Dense)              (None, 256)               131328    \n",
      "_________________________________________________________________\n",
      "leaky_re_lu_4 (LeakyReLU)    (None, 256)               0         \n",
      "_________________________________________________________________\n",
      "dense_6 (Dense)              (None, 1)                 257       \n",
      "=================================================================\n",
      "Total params: 533,505\n",
      "Trainable params: 533,505\n",
      "Non-trainable params: 0\n",
      "_________________________________________________________________\n"
     ]
    }
   ],
   "source": [
    "disc=Sequential()\n",
    "\n",
    "disc.add(Dense(512,input_shape=(x_train.shape[1],)))\n",
    "disc.add(LeakyReLU(0.2))\n",
    "\n",
    "disc.add(Dense(256))\n",
    "disc.add(LeakyReLU(0.2))\n",
    "\n",
    "disc.add(Dense(1,activation=\"sigmoid\"))\n",
    "\n",
    "disc.compile(loss=\"binary_crossentropy\",optimizer=opt)\n",
    "disc.summary()"
   ]
  },
  {
   "cell_type": "markdown",
   "metadata": {
    "colab_type": "text",
    "id": "Vl2Q2I9LhPud"
   },
   "source": [
    "# Connecting the Generator and Discriminator Models using keras functional API"
   ]
  },
  {
   "cell_type": "code",
   "execution_count": 10,
   "metadata": {
    "colab": {
     "base_uri": "https://localhost:8080/",
     "height": 259
    },
    "colab_type": "code",
    "executionInfo": {
     "elapsed": 4889,
     "status": "ok",
     "timestamp": 1585398048869,
     "user": {
      "displayName": "Akshay Dagar",
      "photoUrl": "https://lh3.googleusercontent.com/a-/AOh14GjekPkchpDLR5vpTmzHIr6X4_LWZHsYame_CoWZ5w=s64",
      "userId": "04138874850621617552"
     },
     "user_tz": -330
    },
    "id": "N2Hb5D2phO6t",
    "outputId": "4959327c-4123-4e5c-c606-6b47ff62e624"
   },
   "outputs": [
    {
     "name": "stdout",
     "output_type": "stream",
     "text": [
      "Model: \"model\"\n",
      "_________________________________________________________________\n",
      "Layer (type)                 Output Shape              Param #   \n",
      "=================================================================\n",
      "input_1 (InputLayer)         [(None, 100)]             0         \n",
      "_________________________________________________________________\n",
      "sequential (Sequential)      (None, 784)               1486352   \n",
      "_________________________________________________________________\n",
      "sequential_1 (Sequential)    (None, 1)                 533505    \n",
      "=================================================================\n",
      "Total params: 2,019,857\n",
      "Trainable params: 1,486,352\n",
      "Non-trainable params: 533,505\n",
      "_________________________________________________________________\n"
     ]
    }
   ],
   "source": [
    "disc.trainable=False\n",
    "\n",
    "gan_input=Input(shape=(noise_dim,))                                 #input to the Generative Adverserial Network\n",
    "img=gen(gan_input)                                                  #Image generated by the generator (output of the generator)\n",
    "gan_output=disc(img)                                                #output of the discriminator\n",
    "\n",
    "model=Model(gan_input,gan_output)                                   #Model is used to call the keras functional api and build a model using the defined layers or input/output\n",
    "model.compile(loss=\"binary_crossentropy\",optimizer=opt)\n",
    "model.summary()"
   ]
  },
  {
   "cell_type": "markdown",
   "metadata": {
    "colab_type": "text",
    "id": "4xS2GU3_3wCW"
   },
   "source": [
    "#### A function to plot the images after each epoch"
   ]
  },
  {
   "cell_type": "code",
   "execution_count": 0,
   "metadata": {
    "colab": {},
    "colab_type": "code",
    "id": "YXDd1ArH3utG"
   },
   "outputs": [],
   "source": [
    "def plot_imgs(epoch,n_images=100):                         #n_images specifies how mnay images u want to plot\n",
    "\n",
    "    noise=np.random.normal(size=(n_images,noise_dim))\n",
    "    generated_imgs=gen.predict(noise)\n",
    "    generated_imgs=generated_imgs.reshape(-1,int(x_train.shape[1]**0.5),int(x_train.shape[1]**0.5))\n",
    "\n",
    "    plt.figure(figsize=(10,10))\n",
    "\n",
    "    for i in range(n_images):\n",
    "        plt.subplot(10,10,i+1)\n",
    "        plt.imshow(generated_imgs[i],cmap=\"gray\")\n",
    "        plt.axis(\"off\")\n",
    "    plt.show()"
   ]
  },
  {
   "cell_type": "markdown",
   "metadata": {
    "colab_type": "text",
    "id": "W1ZBlVEg3omu"
   },
   "source": [
    "# Training the Generator and Discriminator:\n"
   ]
  },
  {
   "cell_type": "code",
   "execution_count": 12,
   "metadata": {
    "colab": {
     "base_uri": "https://localhost:8080/",
     "height": 1000,
     "output_embedded_package_id": "1EGgoE7yFq7nNMmrOyBwKXT87tNeh9_8b",
     "referenced_widgets": [
      "f7efe93d63fe4581884726e8f23b8396",
      "a7b2c1255e4c4a5d8ee0d8b153a728d9",
      "60261d4a0076477580b29fddff4e5e3f",
      "512ed094fcdc48069dd3b7a9cdaabb05",
      "1655730efd4647e58f5bb48892d1d822",
      "104eb194e1404da692ef903a4d632539",
      "0d8ac7d19cce4157b8ef2a50fac880c7",
      "34202952153a425dbae92d350ae70fda"
     ]
    },
    "colab_type": "code",
    "executionInfo": {
     "elapsed": 231266,
     "status": "ok",
     "timestamp": 1585399216574,
     "user": {
      "displayName": "Akshay Dagar",
      "photoUrl": "https://lh3.googleusercontent.com/a-/AOh14GjekPkchpDLR5vpTmzHIr6X4_LWZHsYame_CoWZ5w=s64",
      "userId": "04138874850621617552"
     },
     "user_tz": -330
    },
    "id": "FUWA8KB0i1px",
    "outputId": "49954036-74ca-4e36-bf3c-fd5e1f382e73"
   },
   "outputs": [
    {
     "data": {
      "text/plain": [
       "Output hidden; open in https://colab.research.google.com to view."
      ]
     },
     "metadata": {},
     "output_type": "display_data"
    }
   ],
   "source": [
    "gloss=[]\n",
    "dloss=[]\n",
    "#we will later use these to plot generator and disciminator losses\n",
    "\n",
    "for i in tqdm_notebook(range(epochs)):\n",
    "\n",
    "    gen_loss=0\n",
    "    disc_loss=0\n",
    "\n",
    "    for step in range(n_batches):\n",
    "\n",
    "        #Training the Discriminator:       (generator is frozen (non-trainable))\n",
    "\n",
    "        random_indices=np.random.randint(low=0,high=x_train.shape[0],size=int(batch_size/2))\n",
    "        #we will take images corresponding to these indices from the training data as the real images for the current batch\n",
    "        real_imgs=x_train[random_indices]\n",
    "        real_labels=np.ones(real_imgs.shape[0])*0.9                          \n",
    "        #labels are multiplied with 0.9 for smoothing labels of discriminator (watch video)\n",
    "\n",
    "        noise=np.random.normal(0,1,size=(int(batch_size/2),noise_dim))         \n",
    "        #this will give us batch_size/2 no. of random noise samples, each being a vector of size noise_dim\n",
    "        fake_imgs=gen.predict(noise)  \n",
    "        fake_labels=np.zeros(fake_imgs.shape[0])        \n",
    "        #after passing the noise samples through the generator network, we get images as output, each having a shape of (28,28)\n",
    "        #,identical to the shape of the real images. Also, the total no. of fake images=no. of real images=batch_size/2\n",
    "\n",
    "        imgs=np.vstack((real_imgs,fake_imgs))\n",
    "        labels=np.hstack((real_labels,fake_labels))\n",
    "\n",
    "        disc_loss+=disc.train_on_batch(imgs,labels)                 #training the discriminator on current batch\n",
    "\n",
    "        #Training the Generator:       (discriminator is frozen (non-trainable) (as we are using model (while defining model, we forze disc)))\n",
    "        noise=np.random.normal(0,1,size=(batch_size,noise_dim))        \n",
    "        #generating batch_size no. of random noise vectors, each of size noise_dim\n",
    "        true_labels=np.ones(batch_size)                             #y_true for discriminator output\n",
    "        gen_loss+=model.train_on_batch(noise,true_labels)\n",
    "\n",
    "    print(\"Epoch: \",i,\" Average Discriminator Loss: \",disc_loss/n_batches,\" Average Generator Loss: \",gen_loss/n_batches)\n",
    "\n",
    "    gloss.append(gen_loss/n_batches)\n",
    "    dloss.append(disc_loss/n_batches)\n",
    "\n",
    "    plot_imgs(i)\n",
    "\n",
    "    if i>0 and gloss[-2]>gloss[-1]:\n",
    "        gen.save(parent_dir+\"mnist_generator.h5\")"
   ]
  },
  {
   "cell_type": "code",
   "execution_count": 13,
   "metadata": {
    "colab": {
     "base_uri": "https://localhost:8080/",
     "height": 265
    },
    "colab_type": "code",
    "executionInfo": {
     "elapsed": 16,
     "status": "ok",
     "timestamp": 1585399216577,
     "user": {
      "displayName": "Akshay Dagar",
      "photoUrl": "https://lh3.googleusercontent.com/a-/AOh14GjekPkchpDLR5vpTmzHIr6X4_LWZHsYame_CoWZ5w=s64",
      "userId": "04138874850621617552"
     },
     "user_tz": -330
    },
    "id": "Avt-yT351OMi",
    "outputId": "98fed260-3243-4334-e3a2-5395da7f831c"
   },
   "outputs": [
    {
     "data": {
      "image/png": "[encoded data removed]",
      "text/plain": [
       "<Figure size 432x288 with 1 Axes>"
      ]
     },
     "metadata": {
      "tags": []
     },
     "output_type": "display_data"
    }
   ],
   "source": [
    "e=np.arange(epochs)\n",
    "plt.plot(e,gloss,c=\"g\")\n",
    "plt.plot(e,dloss,c=\"r\")\n",
    "\n",
    "plt.show()"
   ]
  }
 ],
 "metadata": {
  "accelerator": "GPU",
  "colab": {
   "authorship_tag": "ABX9TyOifGGBJ78RYvX9MdJpal9o",
   "collapsed_sections": [],
   "mount_file_id": "1KZFgKUv0jggqdw2bxXsfJkCLmhjxF63D",
   "name": "MNIST_GAN.ipynb",
   "provenance": []
  },
  "kernelspec": {
   "display_name": "Python 3",
   "language": "python",
   "name": "python3"
  },
  "language_info": {
   "codemirror_mode": {
    "name": "ipython",
    "version": 3
   },
   "file_extension": ".py",
   "mimetype": "text/x-python",
   "name": "python",
   "nbconvert_exporter": "python",
   "pygments_lexer": "ipython3",
   "version": "3.7.2"
  },
  "widgets": {
   "application/vnd.jupyter.widget-state+json": {
    "0d8ac7d19cce4157b8ef2a50fac880c7": {
     "model_module": "@jupyter-widgets/controls",
     "model_name": "DescriptionStyleModel",
     "state": {
      "_model_module": "@jupyter-widgets/controls",
      "_model_module_version": "1.5.0",
      "_model_name": "DescriptionStyleModel",
      "_view_count": null,
      "_view_module": "@jupyter-widgets/base",
      "_view_module_version": "1.2.0",
      "_view_name": "StyleView",
      "description_width": ""
     }
    },
    "104eb194e1404da692ef903a4d632539": {
     "model_module": "@jupyter-widgets/base",
     "model_name": "LayoutModel",
     "state": {
      "_model_module": "@jupyter-widgets/base",
      "_model_module_version": "1.2.0",
      "_model_name": "LayoutModel",
      "_view_count": null,
      "_view_module": "@jupyter-widgets/base",
      "_view_module_version": "1.2.0",
      "_view_name": "LayoutView",
      "align_content": null,
      "align_items": null,
      "align_self": null,
      "border": null,
      "bottom": null,
      "display": null,
      "flex": null,
      "flex_flow": null,
      "grid_area": null,
      "grid_auto_columns": null,
      "grid_auto_flow": null,
      "grid_auto_rows": null,
      "grid_column": null,
      "grid_gap": null,
      "grid_row": null,
      "grid_template_areas": null,
      "grid_template_columns": null,
      "grid_template_rows": null,
      "height": null,
      "justify_content": null,
      "justify_items": null,
      "left": null,
      "margin": null,
      "max_height": null,
      "max_width": null,
      "min_height": null,
      "min_width": null,
      "object_fit": null,
      "object_position": null,
      "order": null,
      "overflow": null,
      "overflow_x": null,
      "overflow_y": null,
      "padding": null,
      "right": null,
      "top": null,
      "visibility": null,
      "width": null
     }
    },
    "1655730efd4647e58f5bb48892d1d822": {
     "model_module": "@jupyter-widgets/controls",
     "model_name": "ProgressStyleModel",
     "state": {
      "_model_module": "@jupyter-widgets/controls",
      "_model_module_version": "1.5.0",
      "_model_name": "ProgressStyleModel",
      "_view_count": null,
      "_view_module": "@jupyter-widgets/base",
      "_view_module_version": "1.2.0",
      "_view_name": "StyleView",
      "bar_color": null,
      "description_width": "initial"
     }
    },
    "34202952153a425dbae92d350ae70fda": {
     "model_module": "@jupyter-widgets/base",
     "model_name": "LayoutModel",
     "state": {
      "_model_module": "@jupyter-widgets/base",
      "_model_module_version": "1.2.0",
      "_model_name": "LayoutModel",
      "_view_count": null,
      "_view_module": "@jupyter-widgets/base",
      "_view_module_version": "1.2.0",
      "_view_name": "LayoutView",
      "align_content": null,
      "align_items": null,
      "align_self": null,
      "border": null,
      "bottom": null,
      "display": null,
      "flex": null,
      "flex_flow": null,
      "grid_area": null,
      "grid_auto_columns": null,
      "grid_auto_flow": null,
      "grid_auto_rows": null,
      "grid_column": null,
      "grid_gap": null,
      "grid_row": null,
      "grid_template_areas": null,
      "grid_template_columns": null,
      "grid_template_rows": null,
      "height": null,
      "justify_content": null,
      "justify_items": null,
      "left": null,
      "margin": null,
      "max_height": null,
      "max_width": null,
      "min_height": null,
      "min_width": null,
      "object_fit": null,
      "object_position": null,
      "order": null,
      "overflow": null,
      "overflow_x": null,
      "overflow_y": null,
      "padding": null,
      "right": null,
      "top": null,
      "visibility": null,
      "width": null
     }
    },
    "512ed094fcdc48069dd3b7a9cdaabb05": {
     "model_module": "@jupyter-widgets/controls",
     "model_name": "HTMLModel",
     "state": {
      "_dom_classes": [],
      "_model_module": "@jupyter-widgets/controls",
      "_model_module_version": "1.5.0",
      "_model_name": "HTMLModel",
      "_view_count": null,
      "_view_module": "@jupyter-widgets/controls",
      "_view_module_version": "1.5.0",
      "_view_name": "HTMLView",
      "description": "",
      "description_tooltip": null,
      "layout": "IPY_MODEL_34202952153a425dbae92d350ae70fda",
      "placeholder": "​",
      "style": "IPY_MODEL_0d8ac7d19cce4157b8ef2a50fac880c7",
      "value": " 100/100 [19:24&lt;00:00, 11.65s/it]"
     }
    },
    "60261d4a0076477580b29fddff4e5e3f": {
     "model_module": "@jupyter-widgets/controls",
     "model_name": "IntProgressModel",
     "state": {
      "_dom_classes": [],
      "_model_module": "@jupyter-widgets/controls",
      "_model_module_version": "1.5.0",
      "_model_name": "IntProgressModel",
      "_view_count": null,
      "_view_module": "@jupyter-widgets/controls",
      "_view_module_version": "1.5.0",
      "_view_name": "ProgressView",
      "bar_style": "success",
      "description": "100%",
      "description_tooltip": null,
      "layout": "IPY_MODEL_104eb194e1404da692ef903a4d632539",
      "max": 100,
      "min": 0,
      "orientation": "horizontal",
      "style": "IPY_MODEL_1655730efd4647e58f5bb48892d1d822",
      "value": 100
     }
    },
    "a7b2c1255e4c4a5d8ee0d8b153a728d9": {
     "model_module": "@jupyter-widgets/base",
     "model_name": "LayoutModel",
     "state": {
      "_model_module": "@jupyter-widgets/base",
      "_model_module_version": "1.2.0",
      "_model_name": "LayoutModel",
      "_view_count": null,
      "_view_module": "@jupyter-widgets/base",
      "_view_module_version": "1.2.0",
      "_view_name": "LayoutView",
      "align_content": null,
      "align_items": null,
      "align_self": null,
      "border": null,
      "bottom": null,
      "display": null,
      "flex": null,
      "flex_flow": null,
      "grid_area": null,
      "grid_auto_columns": null,
      "grid_auto_flow": null,
      "grid_auto_rows": null,
      "grid_column": null,
      "grid_gap": null,
      "grid_row": null,
      "grid_template_areas": null,
      "grid_template_columns": null,
      "grid_template_rows": null,
      "height": null,
      "justify_content": null,
      "justify_items": null,
      "left": null,
      "margin": null,
      "max_height": null,
      "max_width": null,
      "min_height": null,
      "min_width": null,
      "object_fit": null,
      "object_position": null,
      "order": null,
      "overflow": null,
      "overflow_x": null,
      "overflow_y": null,
      "padding": null,
      "right": null,
      "top": null,
      "visibility": null,
      "width": null
     }
    },
    "f7efe93d63fe4581884726e8f23b8396": {
     "model_module": "@jupyter-widgets/controls",
     "model_name": "HBoxModel",
     "state": {
      "_dom_classes": [],
      "_model_module": "@jupyter-widgets/controls",
      "_model_module_version": "1.5.0",
      "_model_name": "HBoxModel",
      "_view_count": null,
      "_view_module": "@jupyter-widgets/controls",
      "_view_module_version": "1.5.0",
      "_view_name": "HBoxView",
      "box_style": "",
      "children": [
       "IPY_MODEL_60261d4a0076477580b29fddff4e5e3f",
       "IPY_MODEL_512ed094fcdc48069dd3b7a9cdaabb05"
      ],
      "layout": "IPY_MODEL_a7b2c1255e4c4a5d8ee0d8b153a728d9"
     }
    }
   }
  }
 },
 "nbformat": 4,
 "nbformat_minor": 1
}
