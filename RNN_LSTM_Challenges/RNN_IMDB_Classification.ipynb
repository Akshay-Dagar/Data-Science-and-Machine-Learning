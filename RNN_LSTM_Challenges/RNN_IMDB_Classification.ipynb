{
 "cells": [
  {
   "cell_type": "code",
   "execution_count": 1,
   "metadata": {
    "colab": {
     "base_uri": "https://localhost:8080/",
     "height": 34
    },
    "colab_type": "code",
    "executionInfo": {
     "elapsed": 1538,
     "status": "ok",
     "timestamp": 1584769556165,
     "user": {
      "displayName": "Akshay Dagar",
      "photoUrl": "https://lh3.googleusercontent.com/a-/AOh14GjekPkchpDLR5vpTmzHIr6X4_LWZHsYame_CoWZ5w=s64",
      "userId": "04138874850621617552"
     },
     "user_tz": -330
    },
    "id": "NmPqLXTPKOXk",
    "outputId": "ea138529-4f45-42bb-b026-63b364cb7b93"
   },
   "outputs": [
    {
     "name": "stdout",
     "output_type": "stream",
     "text": [
      "Drive already mounted at /content/drive; to attempt to forcibly remount, call drive.mount(\"/content/drive\", force_remount=True).\n"
     ]
    }
   ],
   "source": [
    "# from google.colab import drive\n",
    "# drive.mount('/content/drive')"
   ]
  },
  {
   "cell_type": "code",
   "execution_count": 0,
   "metadata": {
    "colab": {},
    "colab_type": "code",
    "id": "24qhjrq5KqFB"
   },
   "outputs": [],
   "source": [
    "parent_dir=\"/content/drive/My Drive/Colab Notebooks/IMDB_RNN/\"  "
   ]
  },
  {
   "cell_type": "code",
   "execution_count": 3,
   "metadata": {
    "colab": {
     "base_uri": "https://localhost:8080/",
     "height": 80
    },
    "colab_type": "code",
    "executionInfo": {
     "elapsed": 3910,
     "status": "ok",
     "timestamp": 1584769558590,
     "user": {
      "displayName": "Akshay Dagar",
      "photoUrl": "https://lh3.googleusercontent.com/a-/AOh14GjekPkchpDLR5vpTmzHIr6X4_LWZHsYame_CoWZ5w=s64",
      "userId": "04138874850621617552"
     },
     "user_tz": -330
    },
    "id": "dYy3P7sDKrcB",
    "outputId": "197280ce-4fcf-4a77-834e-70bc2efd7600"
   },
   "outputs": [
    {
     "name": "stderr",
     "output_type": "stream",
     "text": [
      "Using TensorFlow backend.\n"
     ]
    },
    {
     "data": {
      "text/html": [
       "<p style=\"color: red;\">\n",
       "The default version of TensorFlow in Colab will soon switch to TensorFlow 2.x.<br>\n",
       "We recommend you <a href=\"https://www.tensorflow.org/guide/migrate\" target=\"_blank\">upgrade</a> now \n",
       "or ensure your notebook will continue to use TensorFlow 1.x via the <code>%tensorflow_version 1.x</code> magic:\n",
       "<a href=\"https://colab.research.google.com/notebooks/tensorflow_version.ipynb\" target=\"_blank\">more info</a>.</p>\n"
      ],
      "text/plain": [
       "<IPython.core.display.HTML object>"
      ]
     },
     "metadata": {
      "tags": []
     },
     "output_type": "display_data"
    }
   ],
   "source": [
    "import numpy as np\n",
    "from keras.datasets import imdb\n",
    "from collections import Counter"
   ]
  },
  {
   "cell_type": "code",
   "execution_count": 0,
   "metadata": {
    "colab": {},
    "colab_type": "code",
    "id": "Scp35pB6RFdD"
   },
   "outputs": [],
   "source": [
    "(x_train,y_train),(x_test,y_test)=imdb.load_data(num_words=10000,skip_top=100)"
   ]
  },
  {
   "cell_type": "code",
   "execution_count": 5,
   "metadata": {
    "colab": {
     "base_uri": "https://localhost:8080/",
     "height": 34
    },
    "colab_type": "code",
    "executionInfo": {
     "elapsed": 9300,
     "status": "ok",
     "timestamp": 1584769564029,
     "user": {
      "displayName": "Akshay Dagar",
      "photoUrl": "https://lh3.googleusercontent.com/a-/AOh14GjekPkchpDLR5vpTmzHIr6X4_LWZHsYame_CoWZ5w=s64",
      "userId": "04138874850621617552"
     },
     "user_tz": -330
    },
    "id": "DzmPByxhSBEr",
    "outputId": "bb954f34-48f8-4d21-b465-f03cb4516f05"
   },
   "outputs": [
    {
     "data": {
      "text/plain": [
       "((25000,), (25000,), (25000,), (25000,))"
      ]
     },
     "execution_count": 5,
     "metadata": {
      "tags": []
     },
     "output_type": "execute_result"
    }
   ],
   "source": [
    "x_train.shape,x_test.shape,y_train.shape,y_test.shape"
   ]
  },
  {
   "cell_type": "code",
   "execution_count": 6,
   "metadata": {
    "colab": {
     "base_uri": "https://localhost:8080/",
     "height": 34
    },
    "colab_type": "code",
    "executionInfo": {
     "elapsed": 9272,
     "status": "ok",
     "timestamp": 1584769564032,
     "user": {
      "displayName": "Akshay Dagar",
      "photoUrl": "https://lh3.googleusercontent.com/a-/AOh14GjekPkchpDLR5vpTmzHIr6X4_LWZHsYame_CoWZ5w=s64",
      "userId": "04138874850621617552"
     },
     "user_tz": -330
    },
    "id": "PMFSiC0JanWj",
    "outputId": "2b353934-172f-4e33-9f66-2359e85b3ee4"
   },
   "outputs": [
    {
     "data": {
      "text/plain": [
       "Counter({0: 12500, 1: 12500})"
      ]
     },
     "execution_count": 6,
     "metadata": {
      "tags": []
     },
     "output_type": "execute_result"
    }
   ],
   "source": [
    "Counter(y_train)                                 #binary classification problem"
   ]
  },
  {
   "cell_type": "code",
   "execution_count": 7,
   "metadata": {
    "colab": {
     "base_uri": "https://localhost:8080/",
     "height": 175
    },
    "colab_type": "code",
    "executionInfo": {
     "elapsed": 9245,
     "status": "ok",
     "timestamp": 1584769564034,
     "user": {
      "displayName": "Akshay Dagar",
      "photoUrl": "https://lh3.googleusercontent.com/a-/AOh14GjekPkchpDLR5vpTmzHIr6X4_LWZHsYame_CoWZ5w=s64",
      "userId": "04138874850621617552"
     },
     "user_tz": -330
    },
    "id": "KV1VchRqSJWl",
    "outputId": "bea01440-9cdf-4b3d-db21-78f156ac4a66"
   },
   "outputs": [
    {
     "data": {
      "text/plain": [
       "array([list([2, 2, 2, 2, 2, 530, 973, 1622, 1385, 2, 458, 4468, 2, 3941, 2, 173, 2, 256, 2, 2, 100, 2, 838, 112, 2, 670, 2, 2, 2, 480, 284, 2, 150, 2, 172, 112, 167, 2, 336, 385, 2, 2, 172, 4536, 1111, 2, 546, 2, 2, 447, 2, 192, 2, 2, 2, 147, 2025, 2, 2, 2, 2, 1920, 4613, 469, 2, 2, 2, 2, 2, 2, 2, 530, 2, 2, 2, 2, 1247, 2, 2, 2, 515, 2, 2, 2, 626, 2, 2, 2, 2, 386, 2, 2, 316, 2, 106, 2, 2, 2223, 5244, 2, 480, 2, 3785, 2, 2, 130, 2, 2, 2, 619, 2, 2, 124, 2, 2, 135, 2, 2, 1415, 2, 2, 2, 2, 215, 2, 2, 2, 2, 2, 407, 2, 2, 2, 2, 2, 107, 117, 5952, 2, 256, 2, 2, 2, 3766, 2, 723, 2, 2, 2, 530, 476, 2, 400, 317, 2, 2, 2, 2, 1029, 2, 104, 2, 2, 381, 2, 297, 2, 2, 2071, 2, 2, 141, 2, 194, 7486, 2, 2, 226, 2, 2, 134, 476, 2, 480, 2, 144, 2, 5535, 2, 2, 2, 2, 224, 2, 2, 104, 2, 226, 2, 2, 2, 1334, 2, 2, 2, 283, 2, 2, 4472, 113, 103, 2, 2, 2, 5345, 2, 178, 2]),\n",
       "       list([2, 194, 1153, 194, 8255, 2, 228, 2, 2, 1463, 4369, 5012, 134, 2, 2, 715, 2, 118, 1634, 2, 394, 2, 2, 119, 954, 189, 102, 2, 207, 110, 3103, 2, 2, 2, 188, 2, 2, 2, 2, 2, 249, 126, 2, 2, 114, 2, 2300, 1523, 2, 647, 2, 116, 2, 2, 8163, 2, 229, 2, 340, 1322, 2, 118, 2, 2, 130, 4901, 2, 2, 1002, 2, 2, 2, 952, 2, 2, 2, 455, 2, 2, 2, 2, 1543, 1905, 398, 2, 1649, 2, 6853, 2, 163, 2, 3215, 2, 2, 1153, 2, 194, 775, 2, 8255, 2, 349, 2637, 148, 605, 2, 8003, 2, 123, 125, 2, 2, 6853, 2, 349, 165, 4362, 2, 2, 2, 228, 2, 2, 2, 1157, 2, 299, 120, 2, 120, 174, 2, 220, 175, 136, 2, 2, 4373, 228, 8255, 2, 2, 656, 245, 2350, 2, 2, 9837, 131, 152, 491, 2, 2, 2, 7464, 1212, 2, 2, 2, 371, 2, 2, 625, 2, 1382, 2, 2, 168, 145, 2, 2, 1690, 2, 2, 2, 1355, 2, 2, 2, 2, 154, 462, 2, 2, 2, 285, 2, 145, 2]),\n",
       "       list([2, 2, 2, 2, 2, 2, 2, 2, 249, 108, 2, 2, 5974, 2, 2, 369, 2, 2, 149, 2, 2, 112, 2, 2401, 311, 2, 2, 3711, 2, 2, 2, 1829, 296, 2, 2, 320, 2, 534, 2, 263, 4821, 1301, 2, 1873, 2, 2, 2, 2, 2, 2, 2, 360, 2, 2, 2, 316, 334, 2, 2, 1716, 2, 645, 662, 2, 257, 2, 1200, 2, 1228, 2578, 2, 2, 3912, 2, 2, 165, 1539, 278, 2, 2, 2, 780, 2, 106, 2, 6905, 1338, 2, 2, 2, 2, 215, 2, 610, 2, 2, 2, 326, 2, 2300, 2, 2, 2, 2, 272, 2, 2, 2, 2, 2, 2, 2, 2, 2307, 2, 2, 170, 2, 595, 116, 595, 1352, 2, 191, 2, 638, 2, 2, 2, 2, 2, 106, 607, 624, 2, 534, 2, 227, 2, 129, 113]),\n",
       "       ...,\n",
       "       list([2, 2, 2, 230, 245, 6401, 2, 2, 1225, 446, 2, 2, 2174, 2, 8322, 4007, 2, 2, 912, 2, 2, 325, 725, 134, 2, 1715, 2, 2, 2, 2, 2, 1099, 2, 2, 140, 2, 703, 2, 2, 2, 2, 2, 1644, 2, 2, 2, 2, 2, 9406, 1209, 2295, 2, 1008, 2, 2, 2, 207, 110, 563, 2, 2, 2901, 2, 2, 2, 2, 2, 2, 4767, 2, 2, 460, 364, 1273, 2, 270, 2, 960, 108, 2, 2, 2, 2961, 395, 2, 2, 4065, 500, 2, 2, 2, 364, 2, 2, 140, 2, 2, 4780, 2, 2, 2678, 2, 178, 2, 529, 443, 2, 2, 2, 710, 117, 2, 8123, 165, 2, 2, 2, 131, 818, 2, 595, 2, 2, 2, 1242, 1209, 2, 2, 288, 2260, 1702, 2, 2901, 2, 2, 2, 496, 2, 231, 2, 790, 2, 2, 320, 234, 2766, 234, 1119, 1574, 2, 496, 2, 139, 929, 2901, 2, 7750, 2, 4241, 2, 2, 8497, 2, 250, 2, 1818, 7561, 2, 4217, 5408, 747, 1115, 372, 1890, 1006, 541, 9303, 2, 2, 2, 2, 2, 3586, 2]),\n",
       "       list([2, 1446, 7079, 2, 2, 3305, 2, 610, 930, 2, 2, 582, 2, 2, 2, 484, 685, 2, 349, 2, 4120, 2959, 2, 2, 1466, 2, 197, 2, 2, 2, 2, 2, 2, 2, 2, 145, 402, 2, 4131, 2, 575, 2, 2, 369, 2, 2, 770, 2, 1054, 2, 100, 2198, 2, 2, 105, 2, 2, 147, 712, 2, 3543, 2, 257, 390, 2, 2, 263, 514, 105, 2, 286, 1814, 2, 2, 123, 2, 161, 2, 2, 421, 2, 116, 2, 897, 2, 2, 2, 319, 5872, 112, 6700, 2, 4803, 121, 2, 2, 3468, 2, 719, 3798, 2, 2, 2, 2, 2, 2, 7200, 2, 2, 2, 2, 123, 2, 942, 2, 2, 721, 2, 145, 2, 202, 2, 160, 580, 202, 2, 2, 2, 2, 2, 2, 401, 728, 2, 2, 2, 251, 2, 2, 251, 2, 2, 2, 2, 2, 2, 124, 2, 2, 2]),\n",
       "       list([2, 2, 2, 194, 337, 2, 2, 204, 2, 2, 254, 2, 106, 2, 123, 2, 2, 270, 2, 2, 2, 2, 732, 2098, 101, 405, 2, 2, 1034, 2, 1310, 2, 115, 2, 305, 2, 2, 2, 168, 2, 235, 2, 2, 111, 699, 102, 2, 2, 4039, 9245, 2, 2, 2, 2, 1099, 2, 2345, 2, 2, 2, 9685, 6139, 2, 2, 1603, 2, 1183, 2, 1310, 2, 2, 204, 2, 2, 2, 2, 221, 109, 2, 127, 2, 118, 2, 2, 2, 157, 2, 6789, 2, 2, 2, 2, 2, 1099, 2, 631, 1191, 2, 2642, 272, 191, 1070, 2, 7585, 2, 2197, 2, 2, 544, 2, 383, 1271, 848, 1468, 2, 497, 2, 2, 1597, 8778, 2, 2, 2, 2, 239, 2, 2, 8368, 209, 405, 2, 2, 2, 764, 2, 2, 248, 2, 2, 2, 2, 174, 1791, 2, 2, 2, 2, 1739, 2, 2, 204, 131, 2])],\n",
       "      dtype=object)"
      ]
     },
     "execution_count": 7,
     "metadata": {
      "tags": []
     },
     "output_type": "execute_result"
    }
   ],
   "source": [
    "x_train"
   ]
  },
  {
   "cell_type": "code",
   "execution_count": 8,
   "metadata": {
    "colab": {
     "base_uri": "https://localhost:8080/",
     "height": 34
    },
    "colab_type": "code",
    "executionInfo": {
     "elapsed": 10485,
     "status": "ok",
     "timestamp": 1584769565301,
     "user": {
      "displayName": "Akshay Dagar",
      "photoUrl": "https://lh3.googleusercontent.com/a-/AOh14GjekPkchpDLR5vpTmzHIr6X4_LWZHsYame_CoWZ5w=s64",
      "userId": "04138874850621617552"
     },
     "user_tz": -330
    },
    "id": "G3QKW9HdSnvH",
    "outputId": "b9d620ef-4292-444b-9458-878edd9390c4"
   },
   "outputs": [
    {
     "data": {
      "text/plain": [
       "((25000, 500), (25000, 500))"
      ]
     },
     "execution_count": 8,
     "metadata": {
      "tags": []
     },
     "output_type": "execute_result"
    }
   ],
   "source": [
    "from keras.preprocessing import sequence\n",
    "\n",
    "#sequences shorter than 500 characters will be padded, longer than 500 will \n",
    "#be clipped from end (u can also clip from beginning (see docs, if u want))\n",
    "x_train=sequence.pad_sequences(x_train,maxlen=500)     \n",
    "x_test=sequence.pad_sequences(x_test,maxlen=500)\n",
    "\n",
    "x_train.shape,x_test.shape"
   ]
  },
  {
   "cell_type": "markdown",
   "metadata": {
    "colab_type": "text",
    "id": "e7h_bbLNWurt"
   },
   "source": [
    "# Creating the model\n"
   ]
  },
  {
   "cell_type": "code",
   "execution_count": 9,
   "metadata": {
    "colab": {
     "base_uri": "https://localhost:8080/",
     "height": 383
    },
    "colab_type": "code",
    "executionInfo": {
     "elapsed": 10460,
     "status": "ok",
     "timestamp": 1584769565303,
     "user": {
      "displayName": "Akshay Dagar",
      "photoUrl": "https://lh3.googleusercontent.com/a-/AOh14GjekPkchpDLR5vpTmzHIr6X4_LWZHsYame_CoWZ5w=s64",
      "userId": "04138874850621617552"
     },
     "user_tz": -330
    },
    "id": "lNKo8akIWqxB",
    "outputId": "4184a3d0-4173-42b7-ed30-3dbf0a1853a2"
   },
   "outputs": [
    {
     "name": "stdout",
     "output_type": "stream",
     "text": [
      "WARNING:tensorflow:From /usr/local/lib/python3.6/dist-packages/keras/backend/tensorflow_backend.py:66: The name tf.get_default_graph is deprecated. Please use tf.compat.v1.get_default_graph instead.\n",
      "\n",
      "WARNING:tensorflow:From /usr/local/lib/python3.6/dist-packages/keras/backend/tensorflow_backend.py:541: The name tf.placeholder is deprecated. Please use tf.compat.v1.placeholder instead.\n",
      "\n",
      "WARNING:tensorflow:From /usr/local/lib/python3.6/dist-packages/keras/backend/tensorflow_backend.py:4432: The name tf.random_uniform is deprecated. Please use tf.random.uniform instead.\n",
      "\n",
      "Model: \"sequential_1\"\n",
      "_________________________________________________________________\n",
      "Layer (type)                 Output Shape              Param #   \n",
      "=================================================================\n",
      "embedding_1 (Embedding)      (None, None, 10)          100000    \n",
      "_________________________________________________________________\n",
      "simple_rnn_1 (SimpleRNN)     (None, 32)                1376      \n",
      "_________________________________________________________________\n",
      "dense_1 (Dense)              (None, 1)                 33        \n",
      "=================================================================\n",
      "Total params: 101,409\n",
      "Trainable params: 101,409\n",
      "Non-trainable params: 0\n",
      "_________________________________________________________________\n"
     ]
    }
   ],
   "source": [
    "from keras.layers import Embedding,Dense,SimpleRNN\n",
    "from keras.models import Sequential\n",
    "\n",
    "model=Sequential()\n",
    "model.add(Embedding(input_dim=10000,output_dim=10))                         \n",
    "#10000 is the vocabulary size (10000 words in our vocabulary) and \n",
    "#10 is the size of the output vector for each word \n",
    "#(u can specify any size greater than 1)\n",
    "\n",
    "model.add(SimpleRNN(units=32))                                   \n",
    "#32 is the size of output(a) given by each RNN layer (it is NOT the no. of RNN cells in the network, the no. of RNN \n",
    "#cells in the network depends on the maxlen of each sentence u are feeding to the network, which is 500 in this case)\n",
    "\n",
    "model.add(Dense(1,activation=\"sigmoid\"))                 #we need only one unit as it is a binary classification problem\n",
    "\n",
    "model.summary()"
   ]
  },
  {
   "cell_type": "code",
   "execution_count": 10,
   "metadata": {
    "colab": {
     "base_uri": "https://localhost:8080/",
     "height": 158
    },
    "colab_type": "code",
    "executionInfo": {
     "elapsed": 10435,
     "status": "ok",
     "timestamp": 1584769565305,
     "user": {
      "displayName": "Akshay Dagar",
      "photoUrl": "https://lh3.googleusercontent.com/a-/AOh14GjekPkchpDLR5vpTmzHIr6X4_LWZHsYame_CoWZ5w=s64",
      "userId": "04138874850621617552"
     },
     "user_tz": -330
    },
    "id": "pk4OP2UBbhx6",
    "outputId": "72750f30-e2d9-406f-e558-6efc6339ef3f"
   },
   "outputs": [
    {
     "name": "stdout",
     "output_type": "stream",
     "text": [
      "WARNING:tensorflow:From /usr/local/lib/python3.6/dist-packages/keras/optimizers.py:793: The name tf.train.Optimizer is deprecated. Please use tf.compat.v1.train.Optimizer instead.\n",
      "\n",
      "WARNING:tensorflow:From /usr/local/lib/python3.6/dist-packages/keras/backend/tensorflow_backend.py:3657: The name tf.log is deprecated. Please use tf.math.log instead.\n",
      "\n",
      "WARNING:tensorflow:From /tensorflow-1.15.0/python3.6/tensorflow_core/python/ops/nn_impl.py:183: where (from tensorflow.python.ops.array_ops) is deprecated and will be removed in a future version.\n",
      "Instructions for updating:\n",
      "Use tf.where in 2.0, which has the same broadcast rule as np.where\n"
     ]
    }
   ],
   "source": [
    "from keras import optimizers\n",
    "model.compile(optimizer=\"rmsprop\",loss=\"binary_crossentropy\",metrics=[\"accuracy\"])"
   ]
  },
  {
   "cell_type": "code",
   "execution_count": 0,
   "metadata": {
    "colab": {},
    "colab_type": "code",
    "id": "3ZLJgI2Vmr9k"
   },
   "outputs": [],
   "source": [
    "from keras.callbacks import ModelCheckpoint\n",
    "from keras.callbacks import EarlyStopping\n",
    "\n",
    "checkpoint=ModelCheckpoint(parent_dir+\"model.h5\",monitor=\"val_loss\",verbose=1,save_best_only=True)\n",
    "stopping=EarlyStopping(monitor=\"val_acc\",patience=2,verbose=1)"
   ]
  },
  {
   "cell_type": "code",
   "execution_count": 12,
   "metadata": {
    "colab": {
     "base_uri": "https://localhost:8080/",
     "height": 625
    },
    "colab_type": "code",
    "executionInfo": {
     "elapsed": 179896,
     "status": "ok",
     "timestamp": 1584769734809,
     "user": {
      "displayName": "Akshay Dagar",
      "photoUrl": "https://lh3.googleusercontent.com/a-/AOh14GjekPkchpDLR5vpTmzHIr6X4_LWZHsYame_CoWZ5w=s64",
      "userId": "04138874850621617552"
     },
     "user_tz": -330
    },
    "id": "SwlzHGdHbuET",
    "outputId": "7d439025-66d3-479d-a358-bb1bf25204e6"
   },
   "outputs": [
    {
     "name": "stdout",
     "output_type": "stream",
     "text": [
      "WARNING:tensorflow:From /usr/local/lib/python3.6/dist-packages/keras/backend/tensorflow_backend.py:1033: The name tf.assign_add is deprecated. Please use tf.compat.v1.assign_add instead.\n",
      "\n",
      "WARNING:tensorflow:From /usr/local/lib/python3.6/dist-packages/keras/backend/tensorflow_backend.py:1020: The name tf.assign is deprecated. Please use tf.compat.v1.assign instead.\n",
      "\n",
      "WARNING:tensorflow:From /usr/local/lib/python3.6/dist-packages/keras/backend/tensorflow_backend.py:3005: The name tf.Session is deprecated. Please use tf.compat.v1.Session instead.\n",
      "\n",
      "Train on 20000 samples, validate on 5000 samples\n",
      "Epoch 1/10\n",
      "WARNING:tensorflow:From /usr/local/lib/python3.6/dist-packages/keras/backend/tensorflow_backend.py:190: The name tf.get_default_session is deprecated. Please use tf.compat.v1.get_default_session instead.\n",
      "\n",
      "WARNING:tensorflow:From /usr/local/lib/python3.6/dist-packages/keras/backend/tensorflow_backend.py:197: The name tf.ConfigProto is deprecated. Please use tf.compat.v1.ConfigProto instead.\n",
      "\n",
      "WARNING:tensorflow:From /usr/local/lib/python3.6/dist-packages/keras/backend/tensorflow_backend.py:207: The name tf.global_variables is deprecated. Please use tf.compat.v1.global_variables instead.\n",
      "\n",
      "WARNING:tensorflow:From /usr/local/lib/python3.6/dist-packages/keras/backend/tensorflow_backend.py:216: The name tf.is_variable_initialized is deprecated. Please use tf.compat.v1.is_variable_initialized instead.\n",
      "\n",
      "WARNING:tensorflow:From /usr/local/lib/python3.6/dist-packages/keras/backend/tensorflow_backend.py:223: The name tf.variables_initializer is deprecated. Please use tf.compat.v1.variables_initializer instead.\n",
      "\n",
      "20000/20000 [==============================] - 43s 2ms/step - loss: 0.6247 - acc: 0.6348 - val_loss: 0.6083 - val_acc: 0.6990\n",
      "\n",
      "Epoch 00001: val_loss improved from inf to 0.60829, saving model to /content/drive/My Drive/Colab Notebooks/IMDB_RNN/model.h5\n",
      "Epoch 2/10\n",
      "20000/20000 [==============================] - 42s 2ms/step - loss: 0.3917 - acc: 0.8288 - val_loss: 0.3536 - val_acc: 0.8546\n",
      "\n",
      "Epoch 00002: val_loss improved from 0.60829 to 0.35360, saving model to /content/drive/My Drive/Colab Notebooks/IMDB_RNN/model.h5\n",
      "Epoch 3/10\n",
      "20000/20000 [==============================] - 42s 2ms/step - loss: 0.3311 - acc: 0.8621 - val_loss: 0.4935 - val_acc: 0.8106\n",
      "\n",
      "Epoch 00003: val_loss did not improve from 0.35360\n",
      "Epoch 4/10\n",
      "20000/20000 [==============================] - 42s 2ms/step - loss: 0.2948 - acc: 0.8821 - val_loss: 0.3753 - val_acc: 0.8346\n",
      "\n",
      "Epoch 00004: val_loss did not improve from 0.35360\n",
      "Epoch 00004: early stopping\n"
     ]
    }
   ],
   "source": [
    "hist=model.fit(x_train,y_train,batch_size=32,epochs=10,validation_split=0.2,callbacks=[checkpoint,stopping])"
   ]
  },
  {
   "cell_type": "code",
   "execution_count": 0,
   "metadata": {
    "colab": {},
    "colab_type": "code",
    "id": "B7wEPUzWiotC"
   },
   "outputs": [],
   "source": [
    "#model.save(parent_dir+\"model.h5\")                    #saved in hdf5 format"
   ]
  },
  {
   "cell_type": "code",
   "execution_count": 0,
   "metadata": {
    "colab": {},
    "colab_type": "code",
    "id": "BOqk7NeWjjUL"
   },
   "outputs": [],
   "source": [
    "from keras.models import load_model\n",
    "\n",
    "model=load_model(parent_dir+\"model.h5\")"
   ]
  },
  {
   "cell_type": "code",
   "execution_count": 15,
   "metadata": {
    "colab": {
     "base_uri": "https://localhost:8080/",
     "height": 52
    },
    "colab_type": "code",
    "executionInfo": {
     "elapsed": 194949,
     "status": "ok",
     "timestamp": 1584769749924,
     "user": {
      "displayName": "Akshay Dagar",
      "photoUrl": "https://lh3.googleusercontent.com/a-/AOh14GjekPkchpDLR5vpTmzHIr6X4_LWZHsYame_CoWZ5w=s64",
      "userId": "04138874850621617552"
     },
     "user_tz": -330
    },
    "id": "4PoNWfBvklOY",
    "outputId": "ac109898-2d51-4730-9c31-f34f524414ab"
   },
   "outputs": [
    {
     "name": "stdout",
     "output_type": "stream",
     "text": [
      "25000/25000 [==============================] - 14s 564us/step\n"
     ]
    },
    {
     "data": {
      "text/plain": [
       "[0.28982366483688354, 0.88564]"
      ]
     },
     "execution_count": 15,
     "metadata": {
      "tags": []
     },
     "output_type": "execute_result"
    }
   ],
   "source": [
    "model.evaluate(x_train,y_train)"
   ]
  },
  {
   "cell_type": "code",
   "execution_count": 16,
   "metadata": {
    "colab": {
     "base_uri": "https://localhost:8080/",
     "height": 52
    },
    "colab_type": "code",
    "executionInfo": {
     "elapsed": 209506,
     "status": "ok",
     "timestamp": 1584769764505,
     "user": {
      "displayName": "Akshay Dagar",
      "photoUrl": "https://lh3.googleusercontent.com/a-/AOh14GjekPkchpDLR5vpTmzHIr6X4_LWZHsYame_CoWZ5w=s64",
      "userId": "04138874850621617552"
     },
     "user_tz": -330
    },
    "id": "OujD-Ee4kyhA",
    "outputId": "8353bc1e-72f5-44a6-ce34-fdf32c391dae"
   },
   "outputs": [
    {
     "name": "stdout",
     "output_type": "stream",
     "text": [
      "25000/25000 [==============================] - 14s 557us/step\n"
     ]
    },
    {
     "data": {
      "text/plain": [
       "[0.3593908804702759, 0.84836]"
      ]
     },
     "execution_count": 16,
     "metadata": {
      "tags": []
     },
     "output_type": "execute_result"
    }
   ],
   "source": [
    "model.evaluate(x_test,y_test)"
   ]
  },
  {
   "cell_type": "code",
   "execution_count": 17,
   "metadata": {
    "colab": {
     "base_uri": "https://localhost:8080/",
     "height": 265
    },
    "colab_type": "code",
    "executionInfo": {
     "elapsed": 209481,
     "status": "ok",
     "timestamp": 1584769764508,
     "user": {
      "displayName": "Akshay Dagar",
      "photoUrl": "https://lh3.googleusercontent.com/a-/AOh14GjekPkchpDLR5vpTmzHIr6X4_LWZHsYame_CoWZ5w=s64",
      "userId": "04138874850621617552"
     },
     "user_tz": -330
    },
    "id": "qbVCTg6XdlFc",
    "outputId": "a6df8cbc-e69d-43aa-c0bd-9fc6d0baf7e5"
   },
   "outputs": [
    {
     "data": {
      "image/png": "[encoded data removed]",
      "text/plain": [
       "<Figure size 432x288 with 1 Axes>"
      ]
     },
     "metadata": {
      "tags": []
     },
     "output_type": "display_data"
    }
   ],
   "source": [
    "import matplotlib.pyplot as plt\n",
    "\n",
    "plt.plot(hist.history[\"loss\"],c=\"r\")\n",
    "plt.plot(hist.history[\"val_loss\"],c=\"g\")\n",
    "\n",
    "plt.show()"
   ]
  },
  {
   "cell_type": "code",
   "execution_count": 18,
   "metadata": {
    "colab": {
     "base_uri": "https://localhost:8080/",
     "height": 265
    },
    "colab_type": "code",
    "executionInfo": {
     "elapsed": 209307,
     "status": "ok",
     "timestamp": 1584769764511,
     "user": {
      "displayName": "Akshay Dagar",
      "photoUrl": "https://lh3.googleusercontent.com/a-/AOh14GjekPkchpDLR5vpTmzHIr6X4_LWZHsYame_CoWZ5w=s64",
      "userId": "04138874850621617552"
     },
     "user_tz": -330
    },
    "id": "pAnTbnSndvdG",
    "outputId": "abe30eb8-32d7-40f9-dfb8-c7476506b844"
   },
   "outputs": [
    {
     "data": {
      "image/png": "[encoded data removed]",
      "text/plain": [
       "<Figure size 432x288 with 1 Axes>"
      ]
     },
     "metadata": {
      "tags": []
     },
     "output_type": "display_data"
    }
   ],
   "source": [
    "plt.plot(hist.history[\"acc\"],c=\"b\")\n",
    "plt.plot(hist.history[\"val_acc\"],c=\"g\")\n",
    "\n",
    "plt.show()"
   ]
  }
 ],
 "metadata": {
  "accelerator": "TPU",
  "colab": {
   "authorship_tag": "ABX9TyNj4JBC2ZPYYCZAMy+W6Cx5",
   "collapsed_sections": [],
   "name": "RNN_Movie_Review_Classification.ipynb",
   "provenance": []
  },
  "kernelspec": {
   "display_name": "Python 3",
   "language": "python",
   "name": "python3"
  },
  "language_info": {
   "codemirror_mode": {
    "name": "ipython",
    "version": 3
   },
   "file_extension": ".py",
   "mimetype": "text/x-python",
   "name": "python",
   "nbconvert_exporter": "python",
   "pygments_lexer": "ipython3",
   "version": "3.7.2"
  }
 },
 "nbformat": 4,
 "nbformat_minor": 1
}
