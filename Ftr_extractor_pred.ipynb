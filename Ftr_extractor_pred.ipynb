{
 "cells": [
  {
   "cell_type": "code",
   "execution_count": 0,
   "metadata": {
    "colab": {},
    "colab_type": "code",
    "id": "Bg6EpdOCX-0d"
   },
   "outputs": [],
   "source": [
    "from google.colab import drive\n",
    "drive.mount('/content/drive')"
   ]
  },
  {
   "cell_type": "code",
   "execution_count": 1,
   "metadata": {
    "colab": {},
    "colab_type": "code",
    "id": "ZNYiq6EsYJbo"
   },
   "outputs": [],
   "source": [
    "parent_dir=\"\"                            #to be changed if run on different computers"
   ]
  },
  {
   "cell_type": "code",
   "execution_count": 2,
   "metadata": {
    "colab": {},
    "colab_type": "code",
    "id": "CgG8xctZYCDT"
   },
   "outputs": [
    {
     "name": "stderr",
     "output_type": "stream",
     "text": [
      "Using TensorFlow backend.\n"
     ]
    }
   ],
   "source": [
    "import matplotlib.pyplot as plt\n",
    "import librosa\n",
    "import librosa.display\n",
    "import numpy as np\n",
    "import pandas as pd\n",
    "import matplotlib.pyplot as plt\n",
    "import tensorflow as tf\n",
    "import os\n",
    "import glob\n",
    "import keras\n",
    "import sys\n",
    "import time\n",
    "import csv\n",
    "import datetime\n",
    "import keras.backend as K\n",
    "import keras\n",
    "import time \n",
    "import csv \n",
    "import datetime\n",
    "from scipy.io import wavfile\n",
    "from sklearn import preprocessing\n",
    "from sklearn.model_selection import train_test_split\n",
    "from matplotlib.pyplot import specgram\n",
    "from keras.preprocessing import sequence\n",
    "from keras.models import Sequential\n",
    "from keras.layers import Dense,Embedding\n",
    "from keras.layers import LSTM\n",
    "from keras.preprocessing.text import Tokenizer\n",
    "from keras.preprocessing.sequence import pad_sequences\n",
    "from keras.utils import to_categorical\n",
    "from keras.layers import Input,Flatten,Dropout,Activation\n",
    "from keras.layers import Conv1D,MaxPooling1D,AveragePooling1D,Conv2D,MaxPool1D,MaxPool2D,Conv2D\n",
    "from keras.models import Model\n",
    "from keras.callbacks import ModelCheckpoint\n",
    "from sklearn.metrics import accuracy_score,confusion_matrix\n",
    "from keras import regularizers\n",
    "from collections import Counter\n",
    "from tqdm import tqdm\n",
    "from sklearn import preprocessing\n",
    "from sklearn.model_selection import train_test_split\n",
    "from sklearn.metrics import accuracy_score,confusion_matrix\n",
    "from librosa import display\n",
    "from keras import applications\n",
    "from keras.preprocessing.image import ImageDataGenerator\n",
    "from keras import optimizers\n",
    "from keras.models import Sequential,Model\n",
    "from keras.layers import Dropout,Flatten,Dense,Input,Convolution2D,MaxPooling2D,Activation,concatenate,LSTM\n",
    "from keras.layers.normalization import BatchNormalization\n",
    "from tqdm import tqdm_notebook\n",
    "from sklearn.svm import SVC"
   ]
  },
  {
   "cell_type": "code",
   "execution_count": 5,
   "metadata": {
    "colab": {},
    "colab_type": "code",
    "id": "kuUEpjW6XbTl"
   },
   "outputs": [],
   "source": [
    "def extract_features(file_path):\n",
    "    win_size=1024\n",
    "    hop_size=768\n",
    "    min_freq=80\n",
    "    max_fund_freq=300\n",
    "    max_freq=8000\n",
    "    mfcc_size=50\n",
    "    magic=43195\n",
    "\n",
    "    features=[]\n",
    "    labels=[]\n",
    "\n",
    "    x,fs=librosa.load(file_path)\n",
    "    #fs,x=wavfile.read(file_path)           \n",
    "\n",
    "    if len(x)>=magic:\n",
    "        x=x[-magic:]\n",
    "    else:                                                          \n",
    "        x=np.concatenate((x,[0]*(magic-len(x))))\n",
    "\n",
    "    x=x/32768                                               \n",
    "    s=librosa.feature.melspectrogram(y=x,sr=fs,n_fft=win_size,hop_length=hop_size)\n",
    "    mfcc=librosa.feature.mfcc(S=librosa.power_to_db(s),sr=fs,n_mfcc=mfcc_size)\n",
    "    rms=librosa.feature.rms(y=x,frame_length=win_size,hop_length=hop_size)\n",
    "    zcr=librosa.feature.zero_crossing_rate(y=x,frame_length=win_size,hop_length=hop_size)\n",
    "    centroid=librosa.feature.spectral_centroid(y=x,sr=fs,n_fft=win_size,hop_length=hop_size)\n",
    "                \n",
    "    #pitch         (write explanation)\n",
    "                \n",
    "    min_lag=int(fs/max_fund_freq)\n",
    "    max_lag=int(fs/min_freq)\n",
    "    L=range(min_lag,max_lag+1)\n",
    "    spec=librosa.core.stft(x,n_fft=win_size,hop_length=hop_size,win_length=win_size)\n",
    "    dividend=np.transpose([np.real(np.fft.ifft(row)) for row in (np.absolute(spec)**2).transpose()])\n",
    "    divisor=np.transpose([win_size-lag+1 for lag in L])\n",
    "    acf=dividend[L]/divisor[:,None]\n",
    "    i_max=np.argmax(acf,axis=0)\n",
    "    pitch=fs/(i_max-1+min_lag)\n",
    "                \n",
    "    if len(set([len(mfcc[0]),len(rms[0]),len(zcr[0]),len(centroid[0]),len(pitch)]))!=1:         \n",
    "        print(' Error: File '+file+' has different numbers of windows among different features!')     \n",
    "\n",
    "    gender=np.vstack(([1]*len(rms[0]),[0]*len(rms[0])))          \n",
    "\n",
    "    concat=np.vstack((mfcc,rms,zcr,centroid,pitch,gender))\n",
    "    features.append(concat)\n",
    "    features=np.array(features)\n",
    "\n",
    "    features=features.reshape(features.shape[0],features.shape[1],features.shape[2],1)    \n",
    "\n",
    "    return features                                          #predict on the returned data using the saved model"
   ]
  },
  {
   "cell_type": "code",
   "execution_count": 6,
   "metadata": {},
   "outputs": [
    {
     "data": {
      "text/plain": [
       "(1, 56, 57, 1)"
      ]
     },
     "execution_count": 6,
     "metadata": {},
     "output_type": "execute_result"
    }
   ],
   "source": [
    "ftrs=extract_features(\"record.wav\")\n",
    "ftrs.shape"
   ]
  },
  {
   "cell_type": "code",
   "execution_count": 10,
   "metadata": {},
   "outputs": [
    {
     "data": {
      "text/plain": [
       "array([[[[-1.11609973e+03],\n",
       "         [-1.10321973e+03],\n",
       "         [-1.10414648e+03],\n",
       "         ...,\n",
       "         [-1.13137085e+03],\n",
       "         [-1.13137085e+03],\n",
       "         [-1.13137085e+03]],\n",
       "\n",
       "        [[ 2.06819115e+01],\n",
       "         [ 3.61486053e+01],\n",
       "         [ 3.52445984e+01],\n",
       "         ...,\n",
       "         [ 0.00000000e+00],\n",
       "         [ 0.00000000e+00],\n",
       "         [ 0.00000000e+00]],\n",
       "\n",
       "        [[ 1.80772362e+01],\n",
       "         [ 2.67366905e+01],\n",
       "         [ 2.67803288e+01],\n",
       "         ...,\n",
       "         [ 0.00000000e+00],\n",
       "         [ 0.00000000e+00],\n",
       "         [ 0.00000000e+00]],\n",
       "\n",
       "        ...,\n",
       "\n",
       "        [[ 1.37812500e+02],\n",
       "         [ 2.82692308e+02],\n",
       "         [ 2.82692308e+02],\n",
       "         ...,\n",
       "         [ 1.35276074e+02],\n",
       "         [ 2.10000000e+02],\n",
       "         [ 2.59411765e+02]],\n",
       "\n",
       "        [[ 1.00000000e+00],\n",
       "         [ 1.00000000e+00],\n",
       "         [ 1.00000000e+00],\n",
       "         ...,\n",
       "         [ 1.00000000e+00],\n",
       "         [ 1.00000000e+00],\n",
       "         [ 1.00000000e+00]],\n",
       "\n",
       "        [[ 0.00000000e+00],\n",
       "         [ 0.00000000e+00],\n",
       "         [ 0.00000000e+00],\n",
       "         ...,\n",
       "         [ 0.00000000e+00],\n",
       "         [ 0.00000000e+00],\n",
       "         [ 0.00000000e+00]]]])"
      ]
     },
     "execution_count": 10,
     "metadata": {},
     "output_type": "execute_result"
    }
   ],
   "source": [
    "ftrs"
   ]
  },
  {
   "cell_type": "code",
   "execution_count": 11,
   "metadata": {},
   "outputs": [],
   "source": [
    "np.save(\"sample.npy\",ftrs)"
   ]
  }
 ],
 "metadata": {
  "colab": {
   "name": "Ftr_extractor_pred.ipynb",
   "provenance": []
  },
  "kernelspec": {
   "display_name": "Python 3",
   "language": "python",
   "name": "python3"
  },
  "language_info": {
   "codemirror_mode": {
    "name": "ipython",
    "version": 3
   },
   "file_extension": ".py",
   "mimetype": "text/x-python",
   "name": "python",
   "nbconvert_exporter": "python",
   "pygments_lexer": "ipython3",
   "version": "3.7.2"
  }
 },
 "nbformat": 4,
 "nbformat_minor": 1
}
