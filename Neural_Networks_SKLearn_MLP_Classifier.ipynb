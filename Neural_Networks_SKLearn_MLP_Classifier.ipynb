{
 "cells": [
  {
   "cell_type": "code",
   "execution_count": 5,
   "metadata": {},
   "outputs": [],
   "source": [
    "from sklearn import datasets\n",
    "from sklearn.model_selection import train_test_split as tts\n",
    "from sklearn.neural_network import MLPClassifier"
   ]
  },
  {
   "cell_type": "code",
   "execution_count": 6,
   "metadata": {},
   "outputs": [],
   "source": [
    "iris=datasets.load_iris()\n",
    "x=iris.data\n",
    "y=iris.target"
   ]
  },
  {
   "cell_type": "code",
   "execution_count": 20,
   "metadata": {},
   "outputs": [],
   "source": [
    "x_train,x_test,y_train,y_test=tts(x,y,test_size=0.2)"
   ]
  },
  {
   "cell_type": "code",
   "execution_count": 61,
   "metadata": {},
   "outputs": [
    {
     "name": "stderr",
     "output_type": "stream",
     "text": [
      "C:\\Users\\akshay\\Anaconda3\\lib\\site-packages\\sklearn\\neural_network\\multilayer_perceptron.py:562: ConvergenceWarning: Stochastic Optimizer: Maximum iterations (1000) reached and the optimization hasn't converged yet.\n",
      "  % self.max_iter, ConvergenceWarning)\n"
     ]
    },
    {
     "data": {
      "text/plain": [
       "MLPClassifier(activation='relu', alpha=0.0001, batch_size='auto', beta_1=0.9,\n",
       "       beta_2=0.999, early_stopping=False, epsilon=1e-08,\n",
       "       hidden_layer_sizes=(20,), learning_rate='constant',\n",
       "       learning_rate_init=0.001, max_iter=1000, momentum=0.9,\n",
       "       n_iter_no_change=10, nesterovs_momentum=True, power_t=0.5,\n",
       "       random_state=None, shuffle=True, solver='adam', tol=0.0001,\n",
       "       validation_fraction=0.1, verbose=False, warm_start=False)"
      ]
     },
     "execution_count": 61,
     "metadata": {},
     "output_type": "execute_result"
    }
   ],
   "source": [
    "clf=MLPClassifier(hidden_layer_sizes=(20,),max_iter=1000)\n",
    "clf.fit(x_train,y_train)\n",
    "#the warning says that cost has not been minimised after running gradient descent for 200 iterations, if u want, u \n",
    "#can increase max_iter to minimise cost. Also see that our data(y_train) is in the form of a string and hasn't been\n",
    "#one-hot encoded (100,010 and 001). Also, in MLP classifiers u can only use 1 hidden function for all units and all \n",
    "#layers.\n",
    "#Parameters:\n",
    "#hidden_layer_sizes=(100,200)       #tuple, no. of units in each hidden layer\n",
    "#activation=\"relu\"                  #activation function(same for all units in neural network)\n",
    "#alpha=0.0001                       #regularisation parmaeter\n",
    "#learning_rate=\"constant\"           #gradient descent learning rate remains constant during all iterations of gradient descent\n",
    "#learning_rate_init=0.01            #initial learning rate(if learning_rate is set to constant, this will remain 0.01)"
   ]
  },
  {
   "cell_type": "code",
   "execution_count": 62,
   "metadata": {},
   "outputs": [
    {
     "data": {
      "text/plain": [
       "0.9666666666666667"
      ]
     },
     "execution_count": 62,
     "metadata": {},
     "output_type": "execute_result"
    }
   ],
   "source": [
    "clf.score(x_test,y_test)                    #we are getting a very good score\n",
    "#Score will be different every time u run MLP, as intially weights are assigned randomly."
   ]
  },
  {
   "cell_type": "code",
   "execution_count": 57,
   "metadata": {},
   "outputs": [
    {
     "data": {
      "text/plain": [
       "[array([[ 1.69503550e-01,  2.74042720e-01, -1.26816784e-03,\n",
       "         -1.28722706e-01, -2.92719480e-01,  6.69514475e-21,\n",
       "          2.24474307e-01, -6.49568132e-02, -1.81164360e-02,\n",
       "         -2.00830725e-01,  2.20996992e-01, -3.93113306e-01,\n",
       "          2.98365811e-01,  1.45907514e-01, -2.37306947e-07,\n",
       "         -1.09634261e-01,  3.63595519e-01, -7.78654422e-02,\n",
       "          5.38980880e-01,  1.04701058e-01],\n",
       "        [-9.53767183e-02,  3.65971101e-01,  3.71911089e-03,\n",
       "          1.27375911e-01,  4.48060611e-01, -8.30787748e-06,\n",
       "          5.13364644e-01, -5.73445188e-01,  4.51723001e-04,\n",
       "          1.02981891e-01,  2.64040694e-01, -6.46301378e-01,\n",
       "         -7.96898959e-01,  7.08393486e-01, -5.63783783e-03,\n",
       "         -1.81942477e-02, -3.26665774e-02, -1.54668156e-02,\n",
       "          6.36721420e-01, -3.36134703e-01],\n",
       "        [-1.33646757e-02,  4.60515316e-01, -2.62717576e-02,\n",
       "         -1.93681125e-01,  1.06411292e-02, -5.16220220e-09,\n",
       "         -2.02776615e-01,  1.72340259e-01, -4.36764979e-16,\n",
       "         -1.51011071e-02,  4.24667951e-02,  8.42173102e-01,\n",
       "          8.17223747e-01, -3.97677544e-01, -1.44549644e-03,\n",
       "         -1.60813709e-02, -1.20702336e-01, -1.82706350e-02,\n",
       "         -6.84292800e-01,  5.30157970e-01],\n",
       "        [-2.42280238e-01,  2.18990109e-01, -1.89989885e-03,\n",
       "         -1.21060676e-01,  6.77815787e-01, -9.63075551e-04,\n",
       "         -2.25858703e-01,  9.47141580e-01,  3.30574232e-11,\n",
       "          2.62069381e-02, -5.77616744e-01,  1.07599984e+00,\n",
       "          8.50657460e-01, -3.95729672e-01,  2.60363059e-02,\n",
       "          6.01290492e-04, -1.08048410e-01, -1.67132937e-02,\n",
       "          5.26158902e-02,  2.60860293e-01]]),\n",
       " array([[ 1.03580530e-01,  5.02584797e-01, -5.32903013e-01],\n",
       "        [-1.81905595e-02,  4.33370638e-01,  2.24961228e-01],\n",
       "        [ 1.38938921e-04,  1.18661145e-05, -1.27807755e-02],\n",
       "        [-3.85077408e-01,  1.77766580e-01,  2.29291983e-01],\n",
       "        [ 2.18710325e-01,  2.04493461e-02,  3.59342889e-01],\n",
       "        [ 1.12158516e-03, -8.02577079e-23, -8.66108577e-15],\n",
       "        [ 7.93694139e-02, -1.39218337e-01, -4.72082872e-01],\n",
       "        [-1.20622048e-01, -8.61694323e-01,  6.20503402e-01],\n",
       "        [-2.55246093e-22, -1.13540219e-02, -1.56689069e-02],\n",
       "        [-1.23099944e-02, -7.43279987e-12,  4.35146790e-11],\n",
       "        [ 6.71461470e-01,  2.33662097e-02, -2.17931501e-01],\n",
       "        [-2.55930682e-01, -1.08054509e+00,  1.25860293e+00],\n",
       "        [-7.72755899e-01,  6.77917527e-01,  9.06392208e-01],\n",
       "        [ 4.48629684e-01, -6.14059544e-01, -1.22789200e+00],\n",
       "        [ 4.04799888e-06,  1.70317432e-03, -3.96189605e-03],\n",
       "        [-2.25169382e-14,  9.89813799e-03,  3.78384194e-08],\n",
       "        [-5.45199102e-02,  3.34386924e-01, -1.10653321e-01],\n",
       "        [ 4.78358327e-02, -5.06092660e-02,  2.63916487e-02],\n",
       "        [ 4.28521933e-01, -1.14079929e-01, -3.19146977e-01],\n",
       "        [-7.19357762e-01, -1.94167731e-01,  4.61839971e-01]])]"
      ]
     },
     "execution_count": 57,
     "metadata": {},
     "output_type": "execute_result"
    }
   ],
   "source": [
    "clf.coefs_                                  #all the weights in all the layers, doesn't include the bias(c)"
   ]
  },
  {
   "cell_type": "code",
   "execution_count": 58,
   "metadata": {},
   "outputs": [
    {
     "data": {
      "text/plain": [
       "2"
      ]
     },
     "execution_count": 58,
     "metadata": {},
     "output_type": "execute_result"
    }
   ],
   "source": [
    "len(clf.coefs_)                               #2 layers"
   ]
  },
  {
   "cell_type": "code",
   "execution_count": 59,
   "metadata": {},
   "outputs": [
    {
     "data": {
      "text/plain": [
       "(4, 20)"
      ]
     },
     "execution_count": 59,
     "metadata": {},
     "output_type": "execute_result"
    }
   ],
   "source": [
    "clf.coefs_[0].shape                           #4 features(units) in input layer, 20 units in 1st hidden layer"
   ]
  },
  {
   "cell_type": "code",
   "execution_count": 60,
   "metadata": {},
   "outputs": [
    {
     "data": {
      "text/plain": [
       "[array([ 0.48471304,  0.22881446, -0.04588423,  0.3726057 , -0.03532264,\n",
       "        -0.31281219,  0.62456425,  0.07817531,  0.06715935,  0.38862084,\n",
       "         0.30210648, -0.69392677, -0.29882055,  0.36863515, -0.31695057,\n",
       "         0.38979289,  0.31517525,  0.3231774 ,  0.18516436, -0.57782778]),\n",
       " array([ 0.47641239,  0.36816462, -0.33102075])]"
      ]
     },
     "execution_count": 60,
     "metadata": {},
     "output_type": "execute_result"
    }
   ],
   "source": [
    "clf.intercepts_                               #c parmaters for each layer."
   ]
  }
 ],
 "metadata": {
  "kernelspec": {
   "display_name": "Python 3",
   "language": "python",
   "name": "python3"
  },
  "language_info": {
   "codemirror_mode": {
    "name": "ipython",
    "version": 3
   },
   "file_extension": ".py",
   "mimetype": "text/x-python",
   "name": "python",
   "nbconvert_exporter": "python",
   "pygments_lexer": "ipython3",
   "version": "3.7.3"
  }
 },
 "nbformat": 4,
 "nbformat_minor": 2
}
