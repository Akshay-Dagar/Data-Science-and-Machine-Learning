{
 "cells": [
  {
   "cell_type": "code",
   "execution_count": 2,
   "metadata": {},
   "outputs": [],
   "source": [
    "import numpy as np\n",
    "import matplotlib.pyplot as plt\n",
    "from sklearn.cluster import KMeans"
   ]
  },
  {
   "cell_type": "code",
   "execution_count": 3,
   "metadata": {},
   "outputs": [],
   "source": [
    "x=np.array([[1,2],[1.5,1.8],[7.5,8],[8,8],[1,0.6],[8.5,9.5]])            #2 feature data"
   ]
  },
  {
   "cell_type": "code",
   "execution_count": 4,
   "metadata": {},
   "outputs": [
    {
     "data": {
      "image/png": "[encoded data removed]",
      "text/plain": [
       "<Figure size 432x288 with 1 Axes>"
      ]
     },
     "metadata": {
      "needs_background": "light"
     },
     "output_type": "display_data"
    }
   ],
   "source": [
    "plt.scatter(x[:,0],x[:,1],color=\"red\")\n",
    "plt.show()                                                   #top 3 would be in 1 cluster and bottom 3 in another ideally"
   ]
  },
  {
   "cell_type": "code",
   "execution_count": 6,
   "metadata": {},
   "outputs": [
    {
     "data": {
      "text/plain": [
       "KMeans(algorithm='auto', copy_x=True, init='k-means++', max_iter=300,\n",
       "       n_clusters=2, n_init=10, n_jobs=None, precompute_distances='auto',\n",
       "       random_state=None, tol=0.0001, verbose=0)"
      ]
     },
     "execution_count": 6,
     "metadata": {},
     "output_type": "execute_result"
    }
   ],
   "source": [
    "km=KMeans(n_clusters=2)\n",
    "km.fit(x)\n",
    "\n",
    "#PARAMETERS:\n",
    "#precompute_distances=\"auto\" or \"True\" => faster execution, as distances are calculated more efficiently\n",
    "#init=\"k-means++\" (if init is kmeans++, it will try to pick intial means such that they are spread out(not near each other))\n",
    "#max_iter: u know it\n",
    "#n_init: no. of times u want to run kmean(each time with different init, in the end we will pick the best cluster out of these.)\n"
   ]
  },
  {
   "cell_type": "code",
   "execution_count": 57,
   "metadata": {},
   "outputs": [
    {
     "data": {
      "text/plain": [
       "array([1, 1, 0, 0, 1, 0])"
      ]
     },
     "execution_count": 57,
     "metadata": {},
     "output_type": "execute_result"
    }
   ],
   "source": [
    "km.labels_                               #1 means cluster 1, 0 means cluster 0"
   ]
  },
  {
   "cell_type": "code",
   "execution_count": 58,
   "metadata": {},
   "outputs": [
    {
     "data": {
      "text/plain": [
       "array([[8.        , 8.5       ],\n",
       "       [1.16666667, 1.46666667]])"
      ]
     },
     "execution_count": 58,
     "metadata": {},
     "output_type": "execute_result"
    }
   ],
   "source": [
    "km.cluster_centers_                      #means of the 2 clusters(in x,y format)"
   ]
  },
  {
   "cell_type": "code",
   "execution_count": 59,
   "metadata": {},
   "outputs": [
    {
     "data": {
      "image/png": "[encoded data removed]",
      "text/plain": [
       "<Figure size 432x288 with 1 Axes>"
      ]
     },
     "metadata": {
      "needs_background": "light"
     },
     "output_type": "display_data"
    }
   ],
   "source": [
    "#plotting:\n",
    "cls1=[]\n",
    "cls2=[]\n",
    "for i in range(len(x)):\n",
    "    if km.labels_[i]==1:\n",
    "        cls1.append(x[i])\n",
    "    else:\n",
    "        cls2.append(x[i])\n",
    "\n",
    "cls1=np.array(cls1)\n",
    "cls2=np.array(cls2)\n",
    "\n",
    "plt.scatter(cls1[:,0],cls1[:,1],color=\"red\")                                          #plotting cluster 1(red)\n",
    "plt.scatter(cls2[:,0],cls2[:,1],color=\"blue\")                                         #plotting cluster 2(blue)\n",
    "plt.scatter(km.cluster_centers_[:,0],km.cluster_centers_[:,1],color=\"orange\")         #plotting the means(orange)\n",
    "plt.show()"
   ]
  },
  {
   "cell_type": "code",
   "execution_count": 60,
   "metadata": {},
   "outputs": [
    {
     "data": {
      "image/png": "[encoded data removed]",
      "text/plain": [
       "<Figure size 432x288 with 1 Axes>"
      ]
     },
     "metadata": {
      "needs_background": "light"
     },
     "output_type": "display_data"
    }
   ],
   "source": [
    "#another shorter way to plot with different colors:\n",
    "plt.scatter(x[:,0],x[:,1],c=km.labels_)\n",
    "plt.show()\n",
    "\n",
    "#the c argument can take colors like the normal color argument, but can also take an array or list:\n",
    "#since our list has 0s and 1s(6 entries), it will give all 0s as 1 color and all 1s as another color.\n",
    "#if u also had 2, then 3 colors."
   ]
  }
 ],
 "metadata": {
  "kernelspec": {
   "display_name": "Python 3",
   "language": "python",
   "name": "python3"
  },
  "language_info": {
   "codemirror_mode": {
    "name": "ipython",
    "version": 3
   },
   "file_extension": ".py",
   "mimetype": "text/x-python",
   "name": "python",
   "nbconvert_exporter": "python",
   "pygments_lexer": "ipython3",
   "version": "3.7.2"
  }
 },
 "nbformat": 4,
 "nbformat_minor": 2
}
