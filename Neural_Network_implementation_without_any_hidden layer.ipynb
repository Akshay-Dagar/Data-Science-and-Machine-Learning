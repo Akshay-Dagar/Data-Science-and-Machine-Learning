{
 "cells": [
  {
   "cell_type": "code",
   "execution_count": 30,
   "metadata": {},
   "outputs": [],
   "source": [
    "import numpy as np"
   ]
  },
  {
   "cell_type": "code",
   "execution_count": 31,
   "metadata": {},
   "outputs": [],
   "source": [
    "#x,y correspond to AND\n",
    "#=>2 units(and 1 bias unit) in input layer and 1 unit in output layer\n",
    "x=np.array([[0,0],[0,1],[1,0],[1,1]])\n",
    "y=np.array([0,0,0,1]).reshape(-1,1)"
   ]
  },
  {
   "cell_type": "code",
   "execution_count": 32,
   "metadata": {},
   "outputs": [],
   "source": [
    "def sig(z):\n",
    "    return (1/(1+np.exp(-z)))"
   ]
  },
  {
   "cell_type": "code",
   "execution_count": 33,
   "metadata": {},
   "outputs": [
    {
     "name": "stdout",
     "output_type": "stream",
     "text": [
      "[[ 0.30857618]\n",
      " [-0.69002073]]\n",
      "\n",
      "[-0.6176541]\n"
     ]
    }
   ],
   "source": [
    "weights=2*np.random.random((2,1))-1    #will make an array 2*1, each entry will be filled by a random no. between -1 and 1\n",
    "bias=2*np.random.random(1)-1           #2 units in input layer going to 1 unit in output, therefore (2,1)\n",
    "print(weights)\n",
    "print()\n",
    "print(bias)"
   ]
  },
  {
   "cell_type": "code",
   "execution_count": 34,
   "metadata": {},
   "outputs": [
    {
     "data": {
      "text/plain": [
       "array([[0.35031518],\n",
       "       [0.21287619],\n",
       "       [0.42333982],\n",
       "       [0.26911868]])"
      ]
     },
     "execution_count": 34,
     "metadata": {},
     "output_type": "execute_result"
    }
   ],
   "source": [
    "out0=x                                 #output of 0th(input) layer(same as input data)\n",
    "out=sig(np.dot(x,weights)+bias)        #final output(y_pred)\n",
    "out\n",
    "#see that outputs are all predicting 0. This is because weights are flawed. We need to apply back propagation and minimize\n",
    "#error to get to the optimal weights"
   ]
  },
  {
   "cell_type": "code",
   "execution_count": 35,
   "metadata": {},
   "outputs": [],
   "source": [
    "alpha=0.1                                                              #learning rate\n",
    "slope=np.array([[0],[0]])                                              #initializing slope array with dummy values. (value in 00 will store slope corresponding to weight W11 and 10 will store slope corresponding to W21)"
   ]
  },
  {
   "cell_type": "code",
   "execution_count": 44,
   "metadata": {},
   "outputs": [
    {
     "data": {
      "text/plain": [
       "array([[6.47429535e-06],\n",
       "       [1.72882391e-02],\n",
       "       [1.72882391e-02],\n",
       "       [9.79509398e-01]])"
      ]
     },
     "execution_count": 44,
     "metadata": {},
     "output_type": "execute_result"
    }
   ],
   "source": [
    "for iter in range(10000):                                            #running gradient descent fot 10000 iterations\n",
    "    first_term=out-y                                                 #see notes(handwritten)\n",
    "    second_term=out*(1-out)                                          #see notes(handwritten)\n",
    "    third_term=out0                                                  #the third term is Oi, so we need to multiply first and second term with Oi to get dinputj/dwij, and then sum it over all training data points. See that Oi is same as x1 or x2. for dinputj/dw1j, we need x1 and for dinputj/dw2j, we need x2. We are going to store the values of dinputj/dwij and dinputj/dw2j in slope aray (2*1) and use this for gradient descent\n",
    "    slope=np.dot(third_term.T,(first_term*second_term))              #.T means transpose\n",
    "    weights=weights-(alpha*slope)                                    #updating weights, using gradient descent, alpha is the learning rate\n",
    "    bias=bias-alpha*(first_term*second_term).sum()                   #change for bias\n",
    "    out=sig(np.dot(x,weights)+bias)                                  #getting the output, for these new weights\n",
    "out                                                                  #see that output is very good now"
   ]
  }
 ],
 "metadata": {
  "kernelspec": {
   "display_name": "Python 3",
   "language": "python",
   "name": "python3"
  },
  "language_info": {
   "codemirror_mode": {
    "name": "ipython",
    "version": 3
   },
   "file_extension": ".py",
   "mimetype": "text/x-python",
   "name": "python",
   "nbconvert_exporter": "python",
   "pygments_lexer": "ipython3",
   "version": "3.7.3"
  }
 },
 "nbformat": 4,
 "nbformat_minor": 2
}
