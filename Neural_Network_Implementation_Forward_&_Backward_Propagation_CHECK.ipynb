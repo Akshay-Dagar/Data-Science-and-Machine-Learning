{
 "cells": [
  {
   "cell_type": "code",
   "execution_count": 1,
   "metadata": {},
   "outputs": [],
   "source": [
    "import numpy as np"
   ]
  },
  {
   "cell_type": "code",
   "execution_count": 2,
   "metadata": {},
   "outputs": [
    {
     "name": "stdout",
     "output_type": "stream",
     "text": [
      "(4, 2)\n",
      "(4, 1)\n"
     ]
    }
   ],
   "source": [
    "#input corresponds to XOR 2 units \n",
    "#in input layer(and 1 bias unit),\n",
    "#1 hidden layer(see previous section)\n",
    "#hidden layer has 2 units and 1 bias\n",
    "#for neural network of XOR), 1 unit in output layer\n",
    "x=np.array([[0,0],[0,1],[1,0],[1,1]])\n",
    "y=np.array([0,1,1,0]).reshape(-1,1)\n",
    "print(x.shape)\n",
    "print(y.shape)"
   ]
  },
  {
   "cell_type": "code",
   "execution_count": 3,
   "metadata": {},
   "outputs": [],
   "source": [
    "def sig(z):\n",
    "    return (1/1+np.exp(-z))"
   ]
  },
  {
   "cell_type": "code",
   "execution_count": 8,
   "metadata": {},
   "outputs": [],
   "source": [
    "#hidden layers weights:\n",
    "wh=2*np.random.random((2,2))-1           #input layer will have 2*2 weights(as input layer has 2 units and hidden layer also has 2 units)\n",
    "bh=2*np.random.random((1,2))-1           #input layer will have 2 biases(as input layer has 1 bias unit and hidden layer ahs 2 units)\n",
    "wo=2*np.random.random((2,1))-1           #as hidden layer has 2 units and output layer has 1 unit\n",
    "bo=2*np.random.random((1,1))-1           #as hidden layer has 1 bias unit and output layer has 1 unit\n",
    "alpha=0.5                                #learning rate"
   ]
  },
  {
   "cell_type": "code",
   "execution_count": 9,
   "metadata": {
    "scrolled": false
   },
   "outputs": [
    {
     "data": {
      "text/plain": [
       "array([[1.],\n",
       "       [1.],\n",
       "       [1.],\n",
       "       [1.]])"
      ]
     },
     "execution_count": 9,
     "metadata": {},
     "output_type": "execute_result"
    }
   ],
   "source": [
    "#forward propagation\n",
    "for iter in range(10000):\n",
    "    out0=x                                   #output of input layer\n",
    "    outh=sig(np.dot(out0,wh)+bh)             #hidden layer output\n",
    "    out=sig(np.dot(outh,wo)+bo)              #final output\n",
    "\n",
    "    first_term_output_layer=out-y\n",
    "    second_term_output_layer=out*(1-out)\n",
    "    first_two_terms_output_layer=first_term_output_layer*second_term_output_layer\n",
    "\n",
    "    first_term_hidden_layer=np.dot(first_two_terms_output_layer,wo.T)\n",
    "    second_term_hidden_layer=outh*(1-outh)\n",
    "    first_two_terms_hidden_layer=first_term_hidden_layer*second_term_hidden_layer\n",
    "\n",
    "    slope_out=np.dot(outh.T,first_two_terms_output_layer)\n",
    "    slope_out_bias=np.sum(first_two_terms_output_layer,axis=0,keepdims=True)\n",
    "\n",
    "    slope_hidden=np.dot(out0.T,first_two_terms_hidden_layer)\n",
    "    slope_hidden_bias=np.sum(first_two_terms_hidden_layer,axis=0,keepdims=True)\n",
    "\n",
    "    #doing the changes in weights and biases:\n",
    "\n",
    "    wo=wo-alpha*slope_out                   \n",
    "    bo=bo-alpha*slope_out_bias\n",
    "\n",
    "    wh=wo-alpha*slope_hidden\n",
    "    bh=bo-alpha*slope_hidden_bias\n",
    "\n",
    "out0=x                                   #output of input layer\n",
    "outh=sig(np.dot(out0,wh)+bh)             #hidden layer output\n",
    "out=sig(np.dot(outh,wo)+bo)              #final output\n",
    "out"
   ]
  }
 ],
 "metadata": {
  "kernelspec": {
   "display_name": "Python 3",
   "language": "python",
   "name": "python3"
  },
  "language_info": {
   "codemirror_mode": {
    "name": "ipython",
    "version": 3
   },
   "file_extension": ".py",
   "mimetype": "text/x-python",
   "name": "python",
   "nbconvert_exporter": "python",
   "pygments_lexer": "ipython3",
   "version": "3.7.3"
  }
 },
 "nbformat": 4,
 "nbformat_minor": 2
}
