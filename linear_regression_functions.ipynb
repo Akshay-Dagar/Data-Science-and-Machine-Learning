{
 "cells": [
  {
   "cell_type": "code",
   "execution_count": 11,
   "metadata": {},
   "outputs": [],
   "source": [
    "from pandas import *\n",
    "from numpy import *\n",
    "def fit(x,y):                         #x and y are train data (in the form of numpy arrays)\n",
    "    m=((x*y).mean()-(x.mean()*y.mean()))/((x*x).mean()-(x.mean())**2)\n",
    "    c=y.mean()-m(x.mean())\n",
    "    return m,c"
   ]
  },
  {
   "cell_type": "code",
   "execution_count": 6,
   "metadata": {},
   "outputs": [],
   "source": [
    "def predict(x_test,m,c):    #x_test is test datain the form of numpy arrays,\n",
    "    y_pred=m*(x_test)+c     #y_pred is a numpy array containing predicted output for x_test\n",
    "    return y_pred"
   ]
  },
  {
   "cell_type": "code",
   "execution_count": 8,
   "metadata": {},
   "outputs": [],
   "source": [
    "def CoD(y_test,y_pred):         #true output of test data(y_test) and predicted output\n",
    "    cod=(1-(((y_test-y_pred)**2).sum()/((y_test-y_test.mean())**2).sum()))\n",
    "    return cod"
   ]
  },
  {
   "cell_type": "code",
   "execution_count": 9,
   "metadata": {},
   "outputs": [],
   "source": [
    "def cost(x,y,m,c):\n",
    "    cost=((y-(m*x+c))**2).sum()\n",
    "    return cost"
   ]
  }
 ],
 "metadata": {
  "kernelspec": {
   "display_name": "Python 3",
   "language": "python",
   "name": "python3"
  },
  "language_info": {
   "codemirror_mode": {
    "name": "ipython",
    "version": 3
   },
   "file_extension": ".py",
   "mimetype": "text/x-python",
   "name": "python",
   "nbconvert_exporter": "python",
   "pygments_lexer": "ipython3",
   "version": "3.7.3"
  }
 },
 "nbformat": 4,
 "nbformat_minor": 2
}
